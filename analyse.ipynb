{
 "cells": [
  {
   "cell_type": "code",
   "execution_count": 1,
   "id": "b8674d40-23ea-46cf-bc83-2be0e2b055e2",
   "metadata": {},
   "outputs": [
    {
     "name": "stdout",
     "output_type": "stream",
     "text": [
      "hello\n"
     ]
    }
   ],
   "source": [
    "print(\"hello\")"
   ]
  },
  {
   "cell_type": "markdown",
   "id": "55c9a9c3-2f51-41fd-a9c1-05b88cae31a9",
   "metadata": {},
   "source": [
    "# Analyse simple sur la stat-desc\n",
    "---"
   ]
  },
  {
   "cell_type": "markdown",
   "id": "ba7a7026",
   "metadata": {},
   "source": [
    "### Importation des packages"
   ]
  },
  {
   "cell_type": "code",
   "execution_count": 9,
   "id": "3949db03",
   "metadata": {},
   "outputs": [],
   "source": [
    "import numpy as np\n",
    "import pandas as pd\n",
    "import matplotlib.pyplot as plt\n",
    "import plotly.express as px\n",
    "import seaborn as sns"
   ]
  },
  {
   "cell_type": "markdown",
   "id": "8e537a4b",
   "metadata": {},
   "source": [
    "### Data importation"
   ]
  },
  {
   "cell_type": "code",
   "execution_count": 10,
   "id": "c2784c69",
   "metadata": {},
   "outputs": [],
   "source": [
    "try:\n",
    "    df = pd.read_excel('data.xlsx')\n",
    "except:\n",
    "    print('erreur :')\n",
    "    %pip install openpyxl"
   ]
  },
  {
   "cell_type": "markdown",
   "id": "f3e520a6",
   "metadata": {},
   "source": [
    "### Basic manipulation"
   ]
  },
  {
   "cell_type": "code",
   "execution_count": 11,
   "id": "b718a28c",
   "metadata": {},
   "outputs": [
    {
     "data": {
      "text/html": [
       "<div>\n",
       "<style scoped>\n",
       "    .dataframe tbody tr th:only-of-type {\n",
       "        vertical-align: middle;\n",
       "    }\n",
       "\n",
       "    .dataframe tbody tr th {\n",
       "        vertical-align: top;\n",
       "    }\n",
       "\n",
       "    .dataframe thead th {\n",
       "        text-align: right;\n",
       "    }\n",
       "</style>\n",
       "<table border=\"1\" class=\"dataframe\">\n",
       "  <thead>\n",
       "    <tr style=\"text-align: right;\">\n",
       "      <th></th>\n",
       "      <th>annee</th>\n",
       "      <th>mois</th>\n",
       "      <th>rec_douane</th>\n",
       "      <th>rec_connexe</th>\n",
       "    </tr>\n",
       "  </thead>\n",
       "  <tbody>\n",
       "    <tr>\n",
       "      <th>0</th>\n",
       "      <td>2018</td>\n",
       "      <td>janvier</td>\n",
       "      <td>46951137555</td>\n",
       "      <td>19.549.999.674</td>\n",
       "    </tr>\n",
       "    <tr>\n",
       "      <th>1</th>\n",
       "      <td>2018</td>\n",
       "      <td>février</td>\n",
       "      <td>47313934748</td>\n",
       "      <td>5.248.767.786</td>\n",
       "    </tr>\n",
       "    <tr>\n",
       "      <th>2</th>\n",
       "      <td>2018</td>\n",
       "      <td>mars</td>\n",
       "      <td>50398861182</td>\n",
       "      <td>6.547.525.686</td>\n",
       "    </tr>\n",
       "    <tr>\n",
       "      <th>3</th>\n",
       "      <td>2018</td>\n",
       "      <td>avril</td>\n",
       "      <td>58775911887</td>\n",
       "      <td>7.220.072.918</td>\n",
       "    </tr>\n",
       "    <tr>\n",
       "      <th>4</th>\n",
       "      <td>2018</td>\n",
       "      <td>mai</td>\n",
       "      <td>58775911887</td>\n",
       "      <td>6.938.560.710</td>\n",
       "    </tr>\n",
       "  </tbody>\n",
       "</table>\n",
       "</div>"
      ],
      "text/plain": [
       "   annee     mois   rec_douane      rec_connexe\n",
       "0   2018  janvier  46951137555   19.549.999.674\n",
       "1   2018  février  47313934748    5.248.767.786\n",
       "2   2018     mars  50398861182    6.547.525.686\n",
       "3   2018    avril  58775911887    7.220.072.918\n",
       "4   2018      mai  58775911887    6.938.560.710"
      ]
     },
     "execution_count": 11,
     "metadata": {},
     "output_type": "execute_result"
    }
   ],
   "source": [
    "df.head()"
   ]
  },
  {
   "cell_type": "markdown",
   "id": "784bd174",
   "metadata": {},
   "source": [
    "### Data manipulation\n",
    "---"
   ]
  },
  {
   "cell_type": "code",
   "execution_count": 12,
   "id": "54627958",
   "metadata": {},
   "outputs": [
    {
     "name": "stdout",
     "output_type": "stream",
     "text": [
      "<class 'pandas.core.frame.DataFrame'>\n",
      "RangeIndex: 60 entries, 0 to 59\n",
      "Data columns (total 4 columns):\n",
      " #   Column       Non-Null Count  Dtype \n",
      "---  ------       --------------  ----- \n",
      " 0   annee        60 non-null     int64 \n",
      " 1   mois         60 non-null     object\n",
      " 2   rec_douane   48 non-null     object\n",
      " 3   rec_connexe  60 non-null     object\n",
      "dtypes: int64(1), object(3)\n",
      "memory usage: 2.0+ KB\n"
     ]
    }
   ],
   "source": [
    "df.info()"
   ]
  },
  {
   "cell_type": "code",
   "execution_count": 13,
   "id": "23f5769c",
   "metadata": {},
   "outputs": [
    {
     "name": "stdout",
     "output_type": "stream",
     "text": [
      "annee           0\n",
      "mois            0\n",
      "rec_douane     12\n",
      "rec_connexe     0\n",
      "dtype: int64\n"
     ]
    }
   ],
   "source": [
    "print(df.isnull().sum())"
   ]
  },
  {
   "cell_type": "code",
   "execution_count": 53,
   "id": "4e84f0c0",
   "metadata": {},
   "outputs": [],
   "source": [
    "df_copy = df.copy()"
   ]
  },
  {
   "cell_type": "code",
   "execution_count": 54,
   "id": "09bbcbd1",
   "metadata": {},
   "outputs": [
    {
     "data": {
      "text/html": [
       "<div>\n",
       "<style scoped>\n",
       "    .dataframe tbody tr th:only-of-type {\n",
       "        vertical-align: middle;\n",
       "    }\n",
       "\n",
       "    .dataframe tbody tr th {\n",
       "        vertical-align: top;\n",
       "    }\n",
       "\n",
       "    .dataframe thead th {\n",
       "        text-align: right;\n",
       "    }\n",
       "</style>\n",
       "<table border=\"1\" class=\"dataframe\">\n",
       "  <thead>\n",
       "    <tr style=\"text-align: right;\">\n",
       "      <th></th>\n",
       "      <th>annee</th>\n",
       "      <th>mois</th>\n",
       "      <th>rec_douane</th>\n",
       "      <th>rec_connexe</th>\n",
       "    </tr>\n",
       "  </thead>\n",
       "  <tbody>\n",
       "    <tr>\n",
       "      <th>0</th>\n",
       "      <td>2018</td>\n",
       "      <td>janvier</td>\n",
       "      <td>46951137555</td>\n",
       "      <td>19.549.999.674</td>\n",
       "    </tr>\n",
       "    <tr>\n",
       "      <th>1</th>\n",
       "      <td>2018</td>\n",
       "      <td>février</td>\n",
       "      <td>47313934748</td>\n",
       "      <td>5.248.767.786</td>\n",
       "    </tr>\n",
       "    <tr>\n",
       "      <th>2</th>\n",
       "      <td>2018</td>\n",
       "      <td>mars</td>\n",
       "      <td>50398861182</td>\n",
       "      <td>6.547.525.686</td>\n",
       "    </tr>\n",
       "    <tr>\n",
       "      <th>3</th>\n",
       "      <td>2018</td>\n",
       "      <td>avril</td>\n",
       "      <td>58775911887</td>\n",
       "      <td>7.220.072.918</td>\n",
       "    </tr>\n",
       "    <tr>\n",
       "      <th>4</th>\n",
       "      <td>2018</td>\n",
       "      <td>mai</td>\n",
       "      <td>58775911887</td>\n",
       "      <td>6.938.560.710</td>\n",
       "    </tr>\n",
       "  </tbody>\n",
       "</table>\n",
       "</div>"
      ],
      "text/plain": [
       "   annee     mois   rec_douane      rec_connexe\n",
       "0   2018  janvier  46951137555   19.549.999.674\n",
       "1   2018  février  47313934748    5.248.767.786\n",
       "2   2018     mars  50398861182    6.547.525.686\n",
       "3   2018    avril  58775911887    7.220.072.918\n",
       "4   2018      mai  58775911887    6.938.560.710"
      ]
     },
     "execution_count": 54,
     "metadata": {},
     "output_type": "execute_result"
    }
   ],
   "source": [
    "df_copy.head()"
   ]
  },
  {
   "cell_type": "code",
   "execution_count": 55,
   "id": "bc4c3ea1",
   "metadata": {},
   "outputs": [
    {
     "data": {
      "text/plain": [
       "array([46951137555, 47313934748, 50398861182, 58775911887, 68656726875,\n",
       "       67199882580, 91744270326, 81660584134, 86950027364, 77933324364,\n",
       "       77055520300, 79921904201, 80077845319, 92707936942, 83347546877,\n",
       "       90188111899, 82674828124, 86585709871, 74503183149, 71673553416,\n",
       "       72467971836, 67422443268, 64175523691, '605 672 967 11',\n",
       "       '674 329 875 42', '598 034 911 26', '572 341 506 44',\n",
       "       '508 469 326 05', '547 063 519 15', '683 389 565 01',\n",
       "       '868 370 554 60', '886 483 694 70', '766 505 408 72',\n",
       "       '721 957 331 65', '636 420 776 89', '660 550 884 82',\n",
       "       '717 241 756 94', '757 398 038 44', '796 947 998 13',\n",
       "       '924 727 438 60', '976 677 455 15', '971 394 666 03', 220499157780,\n",
       "       '127 1200 116 74', 118926586673, 122463353583, 127929318831, nan],\n",
       "      dtype=object)"
      ]
     },
     "execution_count": 55,
     "metadata": {},
     "output_type": "execute_result"
    }
   ],
   "source": [
    "df_copy.rec_douane.unique()"
   ]
  },
  {
   "cell_type": "code",
   "execution_count": 56,
   "id": "044f878c",
   "metadata": {},
   "outputs": [
    {
     "data": {
      "text/plain": [
       "array(['19.549.999.674', '  5.248.767.786', '  6.547.525.686',\n",
       "       '  7.220.072.918', '  6.938.560.710', '10.087.033.209',\n",
       "       '13.747.618.364', '18.154.441.800', '22.319.200.107',\n",
       "       '18.872.341.724', '17.499.907.474', '20.518.021.342',\n",
       "       '20.456.591.937', '16.382.282.808', '20.163.096.373',\n",
       "       '22.212.658.797', '19.504.046.902', '16.797.307.841',\n",
       "       '18.382.897.338', '28.529.563.557', '25.723.259.339',\n",
       "       '27.152.511.693', '23.529.903.715', '24.667.260.047',\n",
       "       '17.818.736.907', '17.921.237.425', '18.428.901.188',\n",
       "       '14.310.096.310', '14.515.819.753', '17.726.283.703',\n",
       "       '18.939.079.682', '18.318.468.473', '17.534.840.664',\n",
       "       '19.586.626.410', '15.957.368.731', '17.014.737.376',\n",
       "       '23.049.066.917', '16.036.148.675', '17.654.667.381',\n",
       "       '18.520.275.640', '18.661.258.606', '33.011.803.549',\n",
       "       '22.590.445.106', '23.409.205.473', '21.840.804.138',\n",
       "       '23.273.983.165', '23.917.713.477', '20,720,485,819',\n",
       "       '21,390,075,497', '27,574,121,734', '26,861,850,903',\n",
       "       '34,393,431,285', '36,360,766,011', '40,254,144,158',\n",
       "       '46,817,361,628', '45,234,266,283', '42,991,169,158',\n",
       "       '41,916,221,297', '47,684,200,972'], dtype=object)"
      ]
     },
     "execution_count": 56,
     "metadata": {},
     "output_type": "execute_result"
    }
   ],
   "source": [
    "df_copy.rec_connexe.unique()"
   ]
  },
  {
   "cell_type": "markdown",
   "id": "25742120",
   "metadata": {},
   "source": [
    "#### Deleting all empties str inside the value (suppression des vides dans une chaine)"
   ]
  },
  {
   "cell_type": "code",
   "execution_count": 63,
   "id": "6a04375c",
   "metadata": {},
   "outputs": [],
   "source": [
    "def remove_empty_point_comma_str(v):\n",
    "    try:\n",
    "        k = str(v).strip()\n",
    "\n",
    "        if ' ' in k:\n",
    "            l = k.split(' ')\n",
    "            \n",
    "            # On supprime les valeurs vide de la liste\n",
    "            for i in range(len(l)-1, -1, -1):\n",
    "                if l[i] == \"\":\n",
    "                    del l[i]\n",
    "            \n",
    "            if len(l)==1:\n",
    "                return int(l[0])\n",
    "            else:\n",
    "                concatenation = ''.join(str(element) for element in l) # On fait la concaténation des entiers converti en str\n",
    "                \n",
    "                if '.' in concatenation:\n",
    "                    l = concatenation.split('.')\n",
    "                    concatenation = ''.join(str(element) for element in l)\n",
    "\n",
    "                    if ',' in concatenation:\n",
    "                        l = concatenation.split(',')\n",
    "                        concatenation = ''.join(str(element) for element in l)\n",
    "                        return int(concatenation)\n",
    "                    return int(concatenation)\n",
    "                return int(concatenation)\n",
    "            \n",
    "        elif '.' in k:\n",
    "            l = k.split('.')\n",
    "            concatenation = ''.join(str(element) for element in l)\n",
    "            return int(concatenation)\n",
    "        \n",
    "        elif ',' in k:\n",
    "            l = k.split(',')\n",
    "            concatenation = ''.join(str(element) for element in l)\n",
    "            return int(concatenation)\n",
    "        \n",
    "        return int(k)\n",
    "    except:\n",
    "        return v"
   ]
  },
  {
   "cell_type": "markdown",
   "id": "356fdd07",
   "metadata": {},
   "source": [
    "#### Converti un objet en un int"
   ]
  },
  {
   "cell_type": "code",
   "execution_count": 64,
   "id": "f75c829a",
   "metadata": {},
   "outputs": [],
   "source": [
    "def converte_to_number(entry):\n",
    "    try:\n",
    "        if (type(entry) == int) | (type(entry) == float):\n",
    "            return int(entry)\n",
    "        elif type(entry) == str:\n",
    "            try:\n",
    "                return int(entry)\n",
    "            except:\n",
    "                if('.' in entry):\n",
    "                    return entry\n",
    "                return remove_empty_point_comma_str(entry)\n",
    "    except:\n",
    "        return entry"
   ]
  },
  {
   "cell_type": "code",
   "execution_count": 65,
   "id": "c4e5ef00",
   "metadata": {},
   "outputs": [
    {
     "data": {
      "text/plain": [
       "717024175694"
      ]
     },
     "execution_count": 65,
     "metadata": {},
     "output_type": "execute_result"
    }
   ],
   "source": [
    "remove_empty_point_comma_str('7170.24175.694 ')"
   ]
  },
  {
   "cell_type": "code",
   "execution_count": 66,
   "id": "31594ece",
   "metadata": {},
   "outputs": [
    {
     "data": {
      "text/plain": [
       "71724175694"
      ]
     },
     "execution_count": 66,
     "metadata": {},
     "output_type": "execute_result"
    }
   ],
   "source": [
    "converte_to_number('717 241 756 94')"
   ]
  },
  {
   "cell_type": "code",
   "execution_count": 67,
   "id": "894c6d84",
   "metadata": {},
   "outputs": [
    {
     "name": "stdout",
     "output_type": "stream",
     "text": [
      "717 241 756 94.1\n"
     ]
    }
   ],
   "source": [
    "print(converte_to_number('717 241 756 94.1'))"
   ]
  },
  {
   "cell_type": "code",
   "execution_count": 68,
   "id": "69b2d120",
   "metadata": {},
   "outputs": [],
   "source": [
    "# Applying converte_to_number function to df_copy\n",
    "df_copy.rec_douane = df_copy.rec_douane.apply(remove_empty_point_comma_str)"
   ]
  },
  {
   "cell_type": "code",
   "execution_count": 69,
   "id": "bfc99e4e",
   "metadata": {},
   "outputs": [
    {
     "data": {
      "text/html": [
       "<div>\n",
       "<style scoped>\n",
       "    .dataframe tbody tr th:only-of-type {\n",
       "        vertical-align: middle;\n",
       "    }\n",
       "\n",
       "    .dataframe tbody tr th {\n",
       "        vertical-align: top;\n",
       "    }\n",
       "\n",
       "    .dataframe thead th {\n",
       "        text-align: right;\n",
       "    }\n",
       "</style>\n",
       "<table border=\"1\" class=\"dataframe\">\n",
       "  <thead>\n",
       "    <tr style=\"text-align: right;\">\n",
       "      <th></th>\n",
       "      <th>annee</th>\n",
       "      <th>mois</th>\n",
       "      <th>rec_douane</th>\n",
       "      <th>rec_connexe</th>\n",
       "    </tr>\n",
       "  </thead>\n",
       "  <tbody>\n",
       "    <tr>\n",
       "      <th>0</th>\n",
       "      <td>2018</td>\n",
       "      <td>janvier</td>\n",
       "      <td>4.695114e+10</td>\n",
       "      <td>19.549.999.674</td>\n",
       "    </tr>\n",
       "    <tr>\n",
       "      <th>1</th>\n",
       "      <td>2018</td>\n",
       "      <td>février</td>\n",
       "      <td>4.731393e+10</td>\n",
       "      <td>5.248.767.786</td>\n",
       "    </tr>\n",
       "    <tr>\n",
       "      <th>2</th>\n",
       "      <td>2018</td>\n",
       "      <td>mars</td>\n",
       "      <td>5.039886e+10</td>\n",
       "      <td>6.547.525.686</td>\n",
       "    </tr>\n",
       "    <tr>\n",
       "      <th>3</th>\n",
       "      <td>2018</td>\n",
       "      <td>avril</td>\n",
       "      <td>5.877591e+10</td>\n",
       "      <td>7.220.072.918</td>\n",
       "    </tr>\n",
       "    <tr>\n",
       "      <th>4</th>\n",
       "      <td>2018</td>\n",
       "      <td>mai</td>\n",
       "      <td>5.877591e+10</td>\n",
       "      <td>6.938.560.710</td>\n",
       "    </tr>\n",
       "  </tbody>\n",
       "</table>\n",
       "</div>"
      ],
      "text/plain": [
       "   annee     mois    rec_douane      rec_connexe\n",
       "0   2018  janvier  4.695114e+10   19.549.999.674\n",
       "1   2018  février  4.731393e+10    5.248.767.786\n",
       "2   2018     mars  5.039886e+10    6.547.525.686\n",
       "3   2018    avril  5.877591e+10    7.220.072.918\n",
       "4   2018      mai  5.877591e+10    6.938.560.710"
      ]
     },
     "execution_count": 69,
     "metadata": {},
     "output_type": "execute_result"
    }
   ],
   "source": [
    "df_copy.head()"
   ]
  },
  {
   "cell_type": "code",
   "execution_count": 70,
   "id": "c4787a5e",
   "metadata": {},
   "outputs": [
    {
     "data": {
      "text/plain": [
       "array(['19.549.999.674', '  5.248.767.786', '  6.547.525.686',\n",
       "       '  7.220.072.918', '  6.938.560.710', '10.087.033.209',\n",
       "       '13.747.618.364', '18.154.441.800', '22.319.200.107',\n",
       "       '18.872.341.724', '17.499.907.474', '20.518.021.342',\n",
       "       '20.456.591.937', '16.382.282.808', '20.163.096.373',\n",
       "       '22.212.658.797', '19.504.046.902', '16.797.307.841',\n",
       "       '18.382.897.338', '28.529.563.557', '25.723.259.339',\n",
       "       '27.152.511.693', '23.529.903.715', '24.667.260.047',\n",
       "       '17.818.736.907', '17.921.237.425', '18.428.901.188',\n",
       "       '14.310.096.310', '14.515.819.753', '17.726.283.703',\n",
       "       '18.939.079.682', '18.318.468.473', '17.534.840.664',\n",
       "       '19.586.626.410', '15.957.368.731', '17.014.737.376',\n",
       "       '23.049.066.917', '16.036.148.675', '17.654.667.381',\n",
       "       '18.520.275.640', '18.661.258.606', '33.011.803.549',\n",
       "       '22.590.445.106', '23.409.205.473', '21.840.804.138',\n",
       "       '23.273.983.165', '23.917.713.477', '20,720,485,819',\n",
       "       '21,390,075,497', '27,574,121,734', '26,861,850,903',\n",
       "       '34,393,431,285', '36,360,766,011', '40,254,144,158',\n",
       "       '46,817,361,628', '45,234,266,283', '42,991,169,158',\n",
       "       '41,916,221,297', '47,684,200,972'], dtype=object)"
      ]
     },
     "execution_count": 70,
     "metadata": {},
     "output_type": "execute_result"
    }
   ],
   "source": [
    "df_copy.rec_connexe.unique()"
   ]
  },
  {
   "cell_type": "code",
   "execution_count": 71,
   "id": "a2a16f9d",
   "metadata": {},
   "outputs": [
    {
     "data": {
      "text/plain": [
       "5248767786"
      ]
     },
     "execution_count": 71,
     "metadata": {},
     "output_type": "execute_result"
    }
   ],
   "source": [
    "remove_empty_point_comma_str('5.248, 767 .786 ')"
   ]
  },
  {
   "cell_type": "code",
   "execution_count": 72,
   "id": "a7de2d97",
   "metadata": {},
   "outputs": [],
   "source": [
    "df_copy.rec_connexe = df_copy.rec_connexe.apply(remove_empty_point_comma_str)"
   ]
  },
  {
   "cell_type": "code",
   "execution_count": 73,
   "id": "59313741",
   "metadata": {},
   "outputs": [
    {
     "data": {
      "text/html": [
       "<div>\n",
       "<style scoped>\n",
       "    .dataframe tbody tr th:only-of-type {\n",
       "        vertical-align: middle;\n",
       "    }\n",
       "\n",
       "    .dataframe tbody tr th {\n",
       "        vertical-align: top;\n",
       "    }\n",
       "\n",
       "    .dataframe thead th {\n",
       "        text-align: right;\n",
       "    }\n",
       "</style>\n",
       "<table border=\"1\" class=\"dataframe\">\n",
       "  <thead>\n",
       "    <tr style=\"text-align: right;\">\n",
       "      <th></th>\n",
       "      <th>annee</th>\n",
       "      <th>mois</th>\n",
       "      <th>rec_douane</th>\n",
       "      <th>rec_connexe</th>\n",
       "    </tr>\n",
       "  </thead>\n",
       "  <tbody>\n",
       "    <tr>\n",
       "      <th>0</th>\n",
       "      <td>2018</td>\n",
       "      <td>janvier</td>\n",
       "      <td>4.695114e+10</td>\n",
       "      <td>19549999674</td>\n",
       "    </tr>\n",
       "    <tr>\n",
       "      <th>1</th>\n",
       "      <td>2018</td>\n",
       "      <td>février</td>\n",
       "      <td>4.731393e+10</td>\n",
       "      <td>5248767786</td>\n",
       "    </tr>\n",
       "    <tr>\n",
       "      <th>2</th>\n",
       "      <td>2018</td>\n",
       "      <td>mars</td>\n",
       "      <td>5.039886e+10</td>\n",
       "      <td>6547525686</td>\n",
       "    </tr>\n",
       "    <tr>\n",
       "      <th>3</th>\n",
       "      <td>2018</td>\n",
       "      <td>avril</td>\n",
       "      <td>5.877591e+10</td>\n",
       "      <td>7220072918</td>\n",
       "    </tr>\n",
       "    <tr>\n",
       "      <th>4</th>\n",
       "      <td>2018</td>\n",
       "      <td>mai</td>\n",
       "      <td>5.877591e+10</td>\n",
       "      <td>6938560710</td>\n",
       "    </tr>\n",
       "  </tbody>\n",
       "</table>\n",
       "</div>"
      ],
      "text/plain": [
       "   annee     mois    rec_douane  rec_connexe\n",
       "0   2018  janvier  4.695114e+10  19549999674\n",
       "1   2018  février  4.731393e+10   5248767786\n",
       "2   2018     mars  5.039886e+10   6547525686\n",
       "3   2018    avril  5.877591e+10   7220072918\n",
       "4   2018      mai  5.877591e+10   6938560710"
      ]
     },
     "execution_count": 73,
     "metadata": {},
     "output_type": "execute_result"
    }
   ],
   "source": [
    "df_copy.head()"
   ]
  },
  {
   "cell_type": "code",
   "execution_count": 74,
   "id": "5ba06f24",
   "metadata": {},
   "outputs": [
    {
     "data": {
      "text/plain": [
       "array([19549999674,  5248767786,  6547525686,  7220072918,  6938560710,\n",
       "       10087033209, 13747618364, 18154441800, 22319200107, 18872341724,\n",
       "       17499907474, 20518021342, 20456591937, 16382282808, 20163096373,\n",
       "       22212658797, 19504046902, 16797307841, 18382897338, 28529563557,\n",
       "       25723259339, 27152511693, 23529903715, 24667260047, 17818736907,\n",
       "       17921237425, 18428901188, 14310096310, 14515819753, 17726283703,\n",
       "       18939079682, 18318468473, 17534840664, 19586626410, 15957368731,\n",
       "       17014737376, 23049066917, 16036148675, 17654667381, 18520275640,\n",
       "       18661258606, 33011803549, 22590445106, 23409205473, 21840804138,\n",
       "       23273983165, 23917713477, 20720485819, 21390075497, 27574121734,\n",
       "       26861850903, 34393431285, 36360766011, 40254144158, 46817361628,\n",
       "       45234266283, 42991169158, 41916221297, 47684200972], dtype=int64)"
      ]
     },
     "execution_count": 74,
     "metadata": {},
     "output_type": "execute_result"
    }
   ],
   "source": [
    "df_copy.rec_connexe.unique()"
   ]
  },
  {
   "cell_type": "code",
   "execution_count": 75,
   "id": "d7144960",
   "metadata": {},
   "outputs": [
    {
     "data": {
      "text/plain": [
       "array([4.69511376e+10, 4.73139347e+10, 5.03988612e+10, 5.87759119e+10,\n",
       "       6.86567269e+10, 6.71998826e+10, 9.17442703e+10, 8.16605841e+10,\n",
       "       8.69500274e+10, 7.79333244e+10, 7.70555203e+10, 7.99219042e+10,\n",
       "       8.00778453e+10, 9.27079369e+10, 8.33475469e+10, 9.01881119e+10,\n",
       "       8.26748281e+10, 8.65857099e+10, 7.45031831e+10, 7.16735534e+10,\n",
       "       7.24679718e+10, 6.74224433e+10, 6.41755237e+10, 6.05672967e+10,\n",
       "       6.74329875e+10, 5.98034911e+10, 5.72341506e+10, 5.08469326e+10,\n",
       "       5.47063519e+10, 6.83389565e+10, 8.68370555e+10, 8.86483695e+10,\n",
       "       7.66505409e+10, 7.21957332e+10, 6.36420777e+10, 6.60550885e+10,\n",
       "       7.17241757e+10, 7.57398038e+10, 7.96947998e+10, 9.24727439e+10,\n",
       "       9.76677455e+10, 9.71394666e+10, 2.20499158e+11, 1.27120012e+11,\n",
       "       1.18926587e+11, 1.22463354e+11, 1.27929319e+11,            nan])"
      ]
     },
     "execution_count": 75,
     "metadata": {},
     "output_type": "execute_result"
    }
   ],
   "source": [
    "df_copy.rec_douane.unique()"
   ]
  },
  {
   "cell_type": "code",
   "execution_count": null,
   "id": "6cd2f67d",
   "metadata": {},
   "outputs": [],
   "source": []
  }
 ],
 "metadata": {
  "kernelspec": {
   "display_name": "Python 3 (ipykernel)",
   "language": "python",
   "name": "python3"
  },
  "language_info": {
   "codemirror_mode": {
    "name": "ipython",
    "version": 3
   },
   "file_extension": ".py",
   "mimetype": "text/x-python",
   "name": "python",
   "nbconvert_exporter": "python",
   "pygments_lexer": "ipython3",
   "version": "3.11.5"
  }
 },
 "nbformat": 4,
 "nbformat_minor": 5
}
