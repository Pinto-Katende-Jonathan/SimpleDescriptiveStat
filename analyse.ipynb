{
 "cells": [
  {
   "cell_type": "code",
   "execution_count": 1,
   "id": "b8674d40-23ea-46cf-bc83-2be0e2b055e2",
   "metadata": {},
   "outputs": [
    {
     "name": "stdout",
     "output_type": "stream",
     "text": [
      "hello\n"
     ]
    }
   ],
   "source": [
    "print(\"hello\")"
   ]
  },
  {
   "cell_type": "markdown",
   "id": "55c9a9c3-2f51-41fd-a9c1-05b88cae31a9",
   "metadata": {},
   "source": [
    "# Analyse simple sur la stat-desc\n",
    "---"
   ]
  },
  {
   "cell_type": "markdown",
   "id": "ba7a7026",
   "metadata": {},
   "source": [
    "### Importation des packages"
   ]
  },
  {
   "cell_type": "code",
   "execution_count": 1,
   "id": "3949db03",
   "metadata": {},
   "outputs": [],
   "source": [
    "import numpy as np\n",
    "import pandas as pd\n",
    "import matplotlib.pyplot as plt\n",
    "import plotly.express as px\n",
    "import seaborn as sns"
   ]
  },
  {
   "cell_type": "markdown",
   "id": "8e537a4b",
   "metadata": {},
   "source": [
    "### Data importation"
   ]
  },
  {
   "cell_type": "code",
   "execution_count": 2,
   "id": "c2784c69",
   "metadata": {},
   "outputs": [],
   "source": [
    "try:\n",
    "    df = pd.read_excel('data.xlsx')\n",
    "except:\n",
    "    print('erreur :')\n",
    "    %pip install openpyxl"
   ]
  },
  {
   "cell_type": "markdown",
   "id": "f3e520a6",
   "metadata": {},
   "source": [
    "### Basic manipulation"
   ]
  },
  {
   "cell_type": "code",
   "execution_count": 3,
   "id": "b718a28c",
   "metadata": {},
   "outputs": [
    {
     "data": {
      "text/html": [
       "<div>\n",
       "<style scoped>\n",
       "    .dataframe tbody tr th:only-of-type {\n",
       "        vertical-align: middle;\n",
       "    }\n",
       "\n",
       "    .dataframe tbody tr th {\n",
       "        vertical-align: top;\n",
       "    }\n",
       "\n",
       "    .dataframe thead th {\n",
       "        text-align: right;\n",
       "    }\n",
       "</style>\n",
       "<table border=\"1\" class=\"dataframe\">\n",
       "  <thead>\n",
       "    <tr style=\"text-align: right;\">\n",
       "      <th></th>\n",
       "      <th>annee</th>\n",
       "      <th>mois</th>\n",
       "      <th>rec_douane</th>\n",
       "      <th>rec_connexe</th>\n",
       "    </tr>\n",
       "  </thead>\n",
       "  <tbody>\n",
       "    <tr>\n",
       "      <th>0</th>\n",
       "      <td>2018</td>\n",
       "      <td>janvier</td>\n",
       "      <td>46951137555</td>\n",
       "      <td>19.549.999.674</td>\n",
       "    </tr>\n",
       "    <tr>\n",
       "      <th>1</th>\n",
       "      <td>2018</td>\n",
       "      <td>février</td>\n",
       "      <td>47313934748</td>\n",
       "      <td>5.248.767.786</td>\n",
       "    </tr>\n",
       "    <tr>\n",
       "      <th>2</th>\n",
       "      <td>2018</td>\n",
       "      <td>mars</td>\n",
       "      <td>50398861182</td>\n",
       "      <td>6.547.525.686</td>\n",
       "    </tr>\n",
       "    <tr>\n",
       "      <th>3</th>\n",
       "      <td>2018</td>\n",
       "      <td>avril</td>\n",
       "      <td>58775911887</td>\n",
       "      <td>7.220.072.918</td>\n",
       "    </tr>\n",
       "    <tr>\n",
       "      <th>4</th>\n",
       "      <td>2018</td>\n",
       "      <td>mai</td>\n",
       "      <td>58775911887</td>\n",
       "      <td>6.938.560.710</td>\n",
       "    </tr>\n",
       "  </tbody>\n",
       "</table>\n",
       "</div>"
      ],
      "text/plain": [
       "   annee     mois   rec_douane      rec_connexe\n",
       "0   2018  janvier  46951137555   19.549.999.674\n",
       "1   2018  février  47313934748    5.248.767.786\n",
       "2   2018     mars  50398861182    6.547.525.686\n",
       "3   2018    avril  58775911887    7.220.072.918\n",
       "4   2018      mai  58775911887    6.938.560.710"
      ]
     },
     "execution_count": 3,
     "metadata": {},
     "output_type": "execute_result"
    }
   ],
   "source": [
    "df.head()"
   ]
  },
  {
   "cell_type": "markdown",
   "id": "784bd174",
   "metadata": {},
   "source": [
    "### Data manipulation\n",
    "---"
   ]
  },
  {
   "cell_type": "code",
   "execution_count": 4,
   "id": "54627958",
   "metadata": {},
   "outputs": [
    {
     "name": "stdout",
     "output_type": "stream",
     "text": [
      "<class 'pandas.core.frame.DataFrame'>\n",
      "RangeIndex: 60 entries, 0 to 59\n",
      "Data columns (total 4 columns):\n",
      " #   Column       Non-Null Count  Dtype \n",
      "---  ------       --------------  ----- \n",
      " 0   annee        60 non-null     int64 \n",
      " 1   mois         60 non-null     object\n",
      " 2   rec_douane   48 non-null     object\n",
      " 3   rec_connexe  60 non-null     object\n",
      "dtypes: int64(1), object(3)\n",
      "memory usage: 2.0+ KB\n"
     ]
    }
   ],
   "source": [
    "df.info()"
   ]
  },
  {
   "cell_type": "code",
   "execution_count": 5,
   "id": "23f5769c",
   "metadata": {},
   "outputs": [
    {
     "name": "stdout",
     "output_type": "stream",
     "text": [
      "annee           0\n",
      "mois            0\n",
      "rec_douane     12\n",
      "rec_connexe     0\n",
      "dtype: int64\n"
     ]
    }
   ],
   "source": [
    "print(df.isnull().sum())"
   ]
  },
  {
   "cell_type": "code",
   "execution_count": 6,
   "id": "4e84f0c0",
   "metadata": {},
   "outputs": [],
   "source": [
    "df_copy = df.copy()"
   ]
  },
  {
   "cell_type": "code",
   "execution_count": 7,
   "id": "09bbcbd1",
   "metadata": {},
   "outputs": [
    {
     "data": {
      "text/html": [
       "<div>\n",
       "<style scoped>\n",
       "    .dataframe tbody tr th:only-of-type {\n",
       "        vertical-align: middle;\n",
       "    }\n",
       "\n",
       "    .dataframe tbody tr th {\n",
       "        vertical-align: top;\n",
       "    }\n",
       "\n",
       "    .dataframe thead th {\n",
       "        text-align: right;\n",
       "    }\n",
       "</style>\n",
       "<table border=\"1\" class=\"dataframe\">\n",
       "  <thead>\n",
       "    <tr style=\"text-align: right;\">\n",
       "      <th></th>\n",
       "      <th>annee</th>\n",
       "      <th>mois</th>\n",
       "      <th>rec_douane</th>\n",
       "      <th>rec_connexe</th>\n",
       "    </tr>\n",
       "  </thead>\n",
       "  <tbody>\n",
       "    <tr>\n",
       "      <th>0</th>\n",
       "      <td>2018</td>\n",
       "      <td>janvier</td>\n",
       "      <td>46951137555</td>\n",
       "      <td>19.549.999.674</td>\n",
       "    </tr>\n",
       "    <tr>\n",
       "      <th>1</th>\n",
       "      <td>2018</td>\n",
       "      <td>février</td>\n",
       "      <td>47313934748</td>\n",
       "      <td>5.248.767.786</td>\n",
       "    </tr>\n",
       "    <tr>\n",
       "      <th>2</th>\n",
       "      <td>2018</td>\n",
       "      <td>mars</td>\n",
       "      <td>50398861182</td>\n",
       "      <td>6.547.525.686</td>\n",
       "    </tr>\n",
       "    <tr>\n",
       "      <th>3</th>\n",
       "      <td>2018</td>\n",
       "      <td>avril</td>\n",
       "      <td>58775911887</td>\n",
       "      <td>7.220.072.918</td>\n",
       "    </tr>\n",
       "    <tr>\n",
       "      <th>4</th>\n",
       "      <td>2018</td>\n",
       "      <td>mai</td>\n",
       "      <td>58775911887</td>\n",
       "      <td>6.938.560.710</td>\n",
       "    </tr>\n",
       "  </tbody>\n",
       "</table>\n",
       "</div>"
      ],
      "text/plain": [
       "   annee     mois   rec_douane      rec_connexe\n",
       "0   2018  janvier  46951137555   19.549.999.674\n",
       "1   2018  février  47313934748    5.248.767.786\n",
       "2   2018     mars  50398861182    6.547.525.686\n",
       "3   2018    avril  58775911887    7.220.072.918\n",
       "4   2018      mai  58775911887    6.938.560.710"
      ]
     },
     "execution_count": 7,
     "metadata": {},
     "output_type": "execute_result"
    }
   ],
   "source": [
    "df_copy.head()"
   ]
  },
  {
   "cell_type": "code",
   "execution_count": 8,
   "id": "bc4c3ea1",
   "metadata": {},
   "outputs": [
    {
     "data": {
      "text/plain": [
       "array([46951137555, 47313934748, 50398861182, 58775911887, 68656726875,\n",
       "       67199882580, 91744270326, 81660584134, 86950027364, 77933324364,\n",
       "       77055520300, 79921904201, 80077845319, 92707936942, 83347546877,\n",
       "       90188111899, 82674828124, 86585709871, 74503183149, 71673553416,\n",
       "       72467971836, 67422443268, 64175523691, '605 672 967 11',\n",
       "       '674 329 875 42', '598 034 911 26', '572 341 506 44',\n",
       "       '508 469 326 05', '547 063 519 15', '683 389 565 01',\n",
       "       '868 370 554 60', '886 483 694 70', '766 505 408 72',\n",
       "       '721 957 331 65', '636 420 776 89', '660 550 884 82',\n",
       "       '717 241 756 94', '757 398 038 44', '796 947 998 13',\n",
       "       '924 727 438 60', '976 677 455 15', '971 394 666 03', 220499157780,\n",
       "       '127 1200 116 74', 118926586673, 122463353583, 127929318831, nan],\n",
       "      dtype=object)"
      ]
     },
     "execution_count": 8,
     "metadata": {},
     "output_type": "execute_result"
    }
   ],
   "source": [
    "df_copy.rec_douane.unique()"
   ]
  },
  {
   "cell_type": "code",
   "execution_count": 9,
   "id": "044f878c",
   "metadata": {},
   "outputs": [
    {
     "data": {
      "text/plain": [
       "array(['19.549.999.674', '  5.248.767.786', '  6.547.525.686',\n",
       "       '  7.220.072.918', '  6.938.560.710', '10.087.033.209',\n",
       "       '13.747.618.364', '18.154.441.800', '22.319.200.107',\n",
       "       '18.872.341.724', '17.499.907.474', '20.518.021.342',\n",
       "       '20.456.591.937', '16.382.282.808', '20.163.096.373',\n",
       "       '22.212.658.797', '19.504.046.902', '16.797.307.841',\n",
       "       '18.382.897.338', '28.529.563.557', '25.723.259.339',\n",
       "       '27.152.511.693', '23.529.903.715', '24.667.260.047',\n",
       "       '17.818.736.907', '17.921.237.425', '18.428.901.188',\n",
       "       '14.310.096.310', '14.515.819.753', '17.726.283.703',\n",
       "       '18.939.079.682', '18.318.468.473', '17.534.840.664',\n",
       "       '19.586.626.410', '15.957.368.731', '17.014.737.376',\n",
       "       '23.049.066.917', '16.036.148.675', '17.654.667.381',\n",
       "       '18.520.275.640', '18.661.258.606', '33.011.803.549',\n",
       "       '22.590.445.106', '23.409.205.473', '21.840.804.138',\n",
       "       '23.273.983.165', '23.917.713.477', '20,720,485,819',\n",
       "       '21,390,075,497', '27,574,121,734', '26,861,850,903',\n",
       "       '34,393,431,285', '36,360,766,011', '40,254,144,158',\n",
       "       '46,817,361,628', '45,234,266,283', '42,991,169,158',\n",
       "       '41,916,221,297', '47,684,200,972'], dtype=object)"
      ]
     },
     "execution_count": 9,
     "metadata": {},
     "output_type": "execute_result"
    }
   ],
   "source": [
    "df_copy.rec_connexe.unique()"
   ]
  },
  {
   "cell_type": "markdown",
   "id": "25742120",
   "metadata": {},
   "source": [
    "#### Deleting all empties str inside the value (suppression des vides dans une chaine)"
   ]
  },
  {
   "cell_type": "code",
   "execution_count": 10,
   "id": "6a04375c",
   "metadata": {},
   "outputs": [],
   "source": [
    "#Cette fonction supprime tous les points, les espaces et vigules dans un montant (car nos valeurs sont entières)\n",
    "def str_with_point_or_comma(v):\n",
    "    try:\n",
    "        k = str(v).strip()\n",
    "\n",
    "        if ' ' in k:\n",
    "            l = k.split(' ')\n",
    "            \n",
    "            # On supprime les valeurs vide de la liste\n",
    "            for i in range(len(l)-1, -1, -1):\n",
    "                if l[i] == \"\":\n",
    "                    del l[i]\n",
    "            \n",
    "            if len(l)==1:\n",
    "                return int(l[0])\n",
    "            else:\n",
    "                concatenation = ''.join(str(element) for element in l) # On fait la concaténation des entiers converti en str\n",
    "                \n",
    "                if '.' in concatenation:\n",
    "                    l = concatenation.split('.')\n",
    "                    concatenation = ''.join(str(element) for element in l)\n",
    "\n",
    "                    if ',' in concatenation:\n",
    "                        l = concatenation.split(',')\n",
    "                        concatenation = ''.join(str(element) for element in l)\n",
    "                        return int(concatenation)\n",
    "                    return int(concatenation)\n",
    "                return int(concatenation)\n",
    "            \n",
    "        elif '.' in k:\n",
    "            l = k.split('.')\n",
    "            concatenation = ''.join(str(element) for element in l)\n",
    "            return int(concatenation)\n",
    "        \n",
    "        elif ',' in k:\n",
    "            l = k.split(',')\n",
    "            concatenation = ''.join(str(element) for element in l)\n",
    "            return int(concatenation)\n",
    "        \n",
    "        return int(k)\n",
    "    except:\n",
    "        return v"
   ]
  },
  {
   "cell_type": "markdown",
   "id": "356fdd07",
   "metadata": {},
   "source": [
    "#### Converti un objet en un int"
   ]
  },
  {
   "cell_type": "code",
   "execution_count": 11,
   "id": "c4e5ef00",
   "metadata": {},
   "outputs": [
    {
     "data": {
      "text/plain": [
       "717024175694"
      ]
     },
     "execution_count": 11,
     "metadata": {},
     "output_type": "execute_result"
    }
   ],
   "source": [
    "str_with_point_or_comma(' 7170.24175.694 ')"
   ]
  },
  {
   "cell_type": "code",
   "execution_count": 12,
   "id": "69b2d120",
   "metadata": {},
   "outputs": [],
   "source": [
    "# Applying converte_to_number function to df_copy\n",
    "df_copy.rec_douane = df_copy.rec_douane.apply(str_with_point_or_comma)"
   ]
  },
  {
   "cell_type": "code",
   "execution_count": 13,
   "id": "bfc99e4e",
   "metadata": {},
   "outputs": [
    {
     "data": {
      "text/html": [
       "<div>\n",
       "<style scoped>\n",
       "    .dataframe tbody tr th:only-of-type {\n",
       "        vertical-align: middle;\n",
       "    }\n",
       "\n",
       "    .dataframe tbody tr th {\n",
       "        vertical-align: top;\n",
       "    }\n",
       "\n",
       "    .dataframe thead th {\n",
       "        text-align: right;\n",
       "    }\n",
       "</style>\n",
       "<table border=\"1\" class=\"dataframe\">\n",
       "  <thead>\n",
       "    <tr style=\"text-align: right;\">\n",
       "      <th></th>\n",
       "      <th>annee</th>\n",
       "      <th>mois</th>\n",
       "      <th>rec_douane</th>\n",
       "      <th>rec_connexe</th>\n",
       "    </tr>\n",
       "  </thead>\n",
       "  <tbody>\n",
       "    <tr>\n",
       "      <th>0</th>\n",
       "      <td>2018</td>\n",
       "      <td>janvier</td>\n",
       "      <td>4.695114e+10</td>\n",
       "      <td>19.549.999.674</td>\n",
       "    </tr>\n",
       "    <tr>\n",
       "      <th>1</th>\n",
       "      <td>2018</td>\n",
       "      <td>février</td>\n",
       "      <td>4.731393e+10</td>\n",
       "      <td>5.248.767.786</td>\n",
       "    </tr>\n",
       "    <tr>\n",
       "      <th>2</th>\n",
       "      <td>2018</td>\n",
       "      <td>mars</td>\n",
       "      <td>5.039886e+10</td>\n",
       "      <td>6.547.525.686</td>\n",
       "    </tr>\n",
       "    <tr>\n",
       "      <th>3</th>\n",
       "      <td>2018</td>\n",
       "      <td>avril</td>\n",
       "      <td>5.877591e+10</td>\n",
       "      <td>7.220.072.918</td>\n",
       "    </tr>\n",
       "    <tr>\n",
       "      <th>4</th>\n",
       "      <td>2018</td>\n",
       "      <td>mai</td>\n",
       "      <td>5.877591e+10</td>\n",
       "      <td>6.938.560.710</td>\n",
       "    </tr>\n",
       "  </tbody>\n",
       "</table>\n",
       "</div>"
      ],
      "text/plain": [
       "   annee     mois    rec_douane      rec_connexe\n",
       "0   2018  janvier  4.695114e+10   19.549.999.674\n",
       "1   2018  février  4.731393e+10    5.248.767.786\n",
       "2   2018     mars  5.039886e+10    6.547.525.686\n",
       "3   2018    avril  5.877591e+10    7.220.072.918\n",
       "4   2018      mai  5.877591e+10    6.938.560.710"
      ]
     },
     "execution_count": 13,
     "metadata": {},
     "output_type": "execute_result"
    }
   ],
   "source": [
    "df_copy.head()"
   ]
  },
  {
   "cell_type": "code",
   "execution_count": 14,
   "id": "c4787a5e",
   "metadata": {},
   "outputs": [
    {
     "data": {
      "text/plain": [
       "array(['19.549.999.674', '  5.248.767.786', '  6.547.525.686',\n",
       "       '  7.220.072.918', '  6.938.560.710', '10.087.033.209',\n",
       "       '13.747.618.364', '18.154.441.800', '22.319.200.107',\n",
       "       '18.872.341.724', '17.499.907.474', '20.518.021.342',\n",
       "       '20.456.591.937', '16.382.282.808', '20.163.096.373',\n",
       "       '22.212.658.797', '19.504.046.902', '16.797.307.841',\n",
       "       '18.382.897.338', '28.529.563.557', '25.723.259.339',\n",
       "       '27.152.511.693', '23.529.903.715', '24.667.260.047',\n",
       "       '17.818.736.907', '17.921.237.425', '18.428.901.188',\n",
       "       '14.310.096.310', '14.515.819.753', '17.726.283.703',\n",
       "       '18.939.079.682', '18.318.468.473', '17.534.840.664',\n",
       "       '19.586.626.410', '15.957.368.731', '17.014.737.376',\n",
       "       '23.049.066.917', '16.036.148.675', '17.654.667.381',\n",
       "       '18.520.275.640', '18.661.258.606', '33.011.803.549',\n",
       "       '22.590.445.106', '23.409.205.473', '21.840.804.138',\n",
       "       '23.273.983.165', '23.917.713.477', '20,720,485,819',\n",
       "       '21,390,075,497', '27,574,121,734', '26,861,850,903',\n",
       "       '34,393,431,285', '36,360,766,011', '40,254,144,158',\n",
       "       '46,817,361,628', '45,234,266,283', '42,991,169,158',\n",
       "       '41,916,221,297', '47,684,200,972'], dtype=object)"
      ]
     },
     "execution_count": 14,
     "metadata": {},
     "output_type": "execute_result"
    }
   ],
   "source": [
    "df_copy.rec_connexe.unique()"
   ]
  },
  {
   "cell_type": "code",
   "execution_count": 15,
   "id": "a2a16f9d",
   "metadata": {},
   "outputs": [
    {
     "data": {
      "text/plain": [
       "5248767786"
      ]
     },
     "execution_count": 15,
     "metadata": {},
     "output_type": "execute_result"
    }
   ],
   "source": [
    "str_with_point_or_comma('5.248, 767 .786 ')"
   ]
  },
  {
   "cell_type": "code",
   "execution_count": 16,
   "id": "a7de2d97",
   "metadata": {},
   "outputs": [],
   "source": [
    "df_copy.rec_connexe = df_copy.rec_connexe.apply(str_with_point_or_comma)"
   ]
  },
  {
   "cell_type": "code",
   "execution_count": 17,
   "id": "59313741",
   "metadata": {},
   "outputs": [
    {
     "data": {
      "text/html": [
       "<div>\n",
       "<style scoped>\n",
       "    .dataframe tbody tr th:only-of-type {\n",
       "        vertical-align: middle;\n",
       "    }\n",
       "\n",
       "    .dataframe tbody tr th {\n",
       "        vertical-align: top;\n",
       "    }\n",
       "\n",
       "    .dataframe thead th {\n",
       "        text-align: right;\n",
       "    }\n",
       "</style>\n",
       "<table border=\"1\" class=\"dataframe\">\n",
       "  <thead>\n",
       "    <tr style=\"text-align: right;\">\n",
       "      <th></th>\n",
       "      <th>annee</th>\n",
       "      <th>mois</th>\n",
       "      <th>rec_douane</th>\n",
       "      <th>rec_connexe</th>\n",
       "    </tr>\n",
       "  </thead>\n",
       "  <tbody>\n",
       "    <tr>\n",
       "      <th>0</th>\n",
       "      <td>2018</td>\n",
       "      <td>janvier</td>\n",
       "      <td>4.695114e+10</td>\n",
       "      <td>19549999674</td>\n",
       "    </tr>\n",
       "    <tr>\n",
       "      <th>1</th>\n",
       "      <td>2018</td>\n",
       "      <td>février</td>\n",
       "      <td>4.731393e+10</td>\n",
       "      <td>5248767786</td>\n",
       "    </tr>\n",
       "    <tr>\n",
       "      <th>2</th>\n",
       "      <td>2018</td>\n",
       "      <td>mars</td>\n",
       "      <td>5.039886e+10</td>\n",
       "      <td>6547525686</td>\n",
       "    </tr>\n",
       "    <tr>\n",
       "      <th>3</th>\n",
       "      <td>2018</td>\n",
       "      <td>avril</td>\n",
       "      <td>5.877591e+10</td>\n",
       "      <td>7220072918</td>\n",
       "    </tr>\n",
       "    <tr>\n",
       "      <th>4</th>\n",
       "      <td>2018</td>\n",
       "      <td>mai</td>\n",
       "      <td>5.877591e+10</td>\n",
       "      <td>6938560710</td>\n",
       "    </tr>\n",
       "  </tbody>\n",
       "</table>\n",
       "</div>"
      ],
      "text/plain": [
       "   annee     mois    rec_douane  rec_connexe\n",
       "0   2018  janvier  4.695114e+10  19549999674\n",
       "1   2018  février  4.731393e+10   5248767786\n",
       "2   2018     mars  5.039886e+10   6547525686\n",
       "3   2018    avril  5.877591e+10   7220072918\n",
       "4   2018      mai  5.877591e+10   6938560710"
      ]
     },
     "execution_count": 17,
     "metadata": {},
     "output_type": "execute_result"
    }
   ],
   "source": [
    "df_copy.head()"
   ]
  },
  {
   "cell_type": "code",
   "execution_count": 18,
   "id": "5ba06f24",
   "metadata": {},
   "outputs": [
    {
     "data": {
      "text/plain": [
       "array([19549999674,  5248767786,  6547525686,  7220072918,  6938560710,\n",
       "       10087033209, 13747618364, 18154441800, 22319200107, 18872341724,\n",
       "       17499907474, 20518021342, 20456591937, 16382282808, 20163096373,\n",
       "       22212658797, 19504046902, 16797307841, 18382897338, 28529563557,\n",
       "       25723259339, 27152511693, 23529903715, 24667260047, 17818736907,\n",
       "       17921237425, 18428901188, 14310096310, 14515819753, 17726283703,\n",
       "       18939079682, 18318468473, 17534840664, 19586626410, 15957368731,\n",
       "       17014737376, 23049066917, 16036148675, 17654667381, 18520275640,\n",
       "       18661258606, 33011803549, 22590445106, 23409205473, 21840804138,\n",
       "       23273983165, 23917713477, 20720485819, 21390075497, 27574121734,\n",
       "       26861850903, 34393431285, 36360766011, 40254144158, 46817361628,\n",
       "       45234266283, 42991169158, 41916221297, 47684200972], dtype=int64)"
      ]
     },
     "execution_count": 18,
     "metadata": {},
     "output_type": "execute_result"
    }
   ],
   "source": [
    "df_copy.rec_connexe.unique()"
   ]
  },
  {
   "cell_type": "code",
   "execution_count": 19,
   "id": "d7144960",
   "metadata": {},
   "outputs": [
    {
     "data": {
      "text/plain": [
       "array([4.69511376e+10, 4.73139347e+10, 5.03988612e+10, 5.87759119e+10,\n",
       "       6.86567269e+10, 6.71998826e+10, 9.17442703e+10, 8.16605841e+10,\n",
       "       8.69500274e+10, 7.79333244e+10, 7.70555203e+10, 7.99219042e+10,\n",
       "       8.00778453e+10, 9.27079369e+10, 8.33475469e+10, 9.01881119e+10,\n",
       "       8.26748281e+10, 8.65857099e+10, 7.45031831e+10, 7.16735534e+10,\n",
       "       7.24679718e+10, 6.74224433e+10, 6.41755237e+10, 6.05672967e+10,\n",
       "       6.74329875e+10, 5.98034911e+10, 5.72341506e+10, 5.08469326e+10,\n",
       "       5.47063519e+10, 6.83389565e+10, 8.68370555e+10, 8.86483695e+10,\n",
       "       7.66505409e+10, 7.21957332e+10, 6.36420777e+10, 6.60550885e+10,\n",
       "       7.17241757e+10, 7.57398038e+10, 7.96947998e+10, 9.24727439e+10,\n",
       "       9.76677455e+10, 9.71394666e+10, 2.20499158e+11, 1.27120012e+11,\n",
       "       1.18926587e+11, 1.22463354e+11, 1.27929319e+11,            nan])"
      ]
     },
     "execution_count": 19,
     "metadata": {},
     "output_type": "execute_result"
    }
   ],
   "source": [
    "df_copy.rec_douane.unique()"
   ]
  },
  {
   "cell_type": "markdown",
   "id": "1756742f",
   "metadata": {},
   "source": [
    "### Missing data Manipulation"
   ]
  },
  {
   "cell_type": "markdown",
   "id": "5e7cd405",
   "metadata": {},
   "source": [
    "There are a lot of technics for filling missing data, in our case, we will use KNNImputer. Such as :\n",
    "\n",
    "- Next or Previous Value \n",
    "- K Nearest Neighbors\n",
    "- Maximum or Minimum Value\n",
    "- Missing Value Prediction\n",
    "- Most Frequent Value\n",
    "- Average or Linear Interpolation\n",
    "- (Rounded) Mean or Moving Average or Median Value\n",
    "- Fixed Value"
   ]
  },
  {
   "cell_type": "code",
   "execution_count": 20,
   "id": "e6eb4e7c",
   "metadata": {},
   "outputs": [
    {
     "data": {
      "text/plain": [
       "annee           0\n",
       "mois            0\n",
       "rec_douane     12\n",
       "rec_connexe     0\n",
       "dtype: int64"
      ]
     },
     "execution_count": 20,
     "metadata": {},
     "output_type": "execute_result"
    }
   ],
   "source": [
    "df_copy.isnull().sum()"
   ]
  },
  {
   "cell_type": "code",
   "execution_count": 21,
   "id": "908e4fbd",
   "metadata": {},
   "outputs": [
    {
     "data": {
      "text/html": [
       "<div>\n",
       "<style scoped>\n",
       "    .dataframe tbody tr th:only-of-type {\n",
       "        vertical-align: middle;\n",
       "    }\n",
       "\n",
       "    .dataframe tbody tr th {\n",
       "        vertical-align: top;\n",
       "    }\n",
       "\n",
       "    .dataframe thead th {\n",
       "        text-align: right;\n",
       "    }\n",
       "</style>\n",
       "<table border=\"1\" class=\"dataframe\">\n",
       "  <thead>\n",
       "    <tr style=\"text-align: right;\">\n",
       "      <th></th>\n",
       "      <th>annee</th>\n",
       "      <th>mois</th>\n",
       "      <th>rec_douane</th>\n",
       "      <th>rec_connexe</th>\n",
       "    </tr>\n",
       "  </thead>\n",
       "  <tbody>\n",
       "    <tr>\n",
       "      <th>47</th>\n",
       "      <td>2021</td>\n",
       "      <td>décembre</td>\n",
       "      <td>1.279293e+11</td>\n",
       "      <td>23917713477</td>\n",
       "    </tr>\n",
       "    <tr>\n",
       "      <th>48</th>\n",
       "      <td>2022</td>\n",
       "      <td>janvier</td>\n",
       "      <td>NaN</td>\n",
       "      <td>20720485819</td>\n",
       "    </tr>\n",
       "    <tr>\n",
       "      <th>49</th>\n",
       "      <td>2022</td>\n",
       "      <td>février</td>\n",
       "      <td>NaN</td>\n",
       "      <td>21390075497</td>\n",
       "    </tr>\n",
       "    <tr>\n",
       "      <th>50</th>\n",
       "      <td>2022</td>\n",
       "      <td>mars</td>\n",
       "      <td>NaN</td>\n",
       "      <td>27574121734</td>\n",
       "    </tr>\n",
       "    <tr>\n",
       "      <th>51</th>\n",
       "      <td>2022</td>\n",
       "      <td>avril</td>\n",
       "      <td>NaN</td>\n",
       "      <td>26861850903</td>\n",
       "    </tr>\n",
       "    <tr>\n",
       "      <th>52</th>\n",
       "      <td>2022</td>\n",
       "      <td>mai</td>\n",
       "      <td>NaN</td>\n",
       "      <td>34393431285</td>\n",
       "    </tr>\n",
       "    <tr>\n",
       "      <th>53</th>\n",
       "      <td>2022</td>\n",
       "      <td>juin</td>\n",
       "      <td>NaN</td>\n",
       "      <td>36360766011</td>\n",
       "    </tr>\n",
       "    <tr>\n",
       "      <th>54</th>\n",
       "      <td>2022</td>\n",
       "      <td>juillet</td>\n",
       "      <td>NaN</td>\n",
       "      <td>40254144158</td>\n",
       "    </tr>\n",
       "    <tr>\n",
       "      <th>55</th>\n",
       "      <td>2022</td>\n",
       "      <td>août</td>\n",
       "      <td>NaN</td>\n",
       "      <td>46817361628</td>\n",
       "    </tr>\n",
       "    <tr>\n",
       "      <th>56</th>\n",
       "      <td>2022</td>\n",
       "      <td>septembre</td>\n",
       "      <td>NaN</td>\n",
       "      <td>45234266283</td>\n",
       "    </tr>\n",
       "    <tr>\n",
       "      <th>57</th>\n",
       "      <td>2022</td>\n",
       "      <td>octobre</td>\n",
       "      <td>NaN</td>\n",
       "      <td>42991169158</td>\n",
       "    </tr>\n",
       "    <tr>\n",
       "      <th>58</th>\n",
       "      <td>2022</td>\n",
       "      <td>novembre</td>\n",
       "      <td>NaN</td>\n",
       "      <td>41916221297</td>\n",
       "    </tr>\n",
       "    <tr>\n",
       "      <th>59</th>\n",
       "      <td>2022</td>\n",
       "      <td>décembre</td>\n",
       "      <td>NaN</td>\n",
       "      <td>47684200972</td>\n",
       "    </tr>\n",
       "  </tbody>\n",
       "</table>\n",
       "</div>"
      ],
      "text/plain": [
       "    annee       mois    rec_douane  rec_connexe\n",
       "47   2021   décembre  1.279293e+11  23917713477\n",
       "48   2022    janvier           NaN  20720485819\n",
       "49   2022    février           NaN  21390075497\n",
       "50   2022       mars           NaN  27574121734\n",
       "51   2022      avril           NaN  26861850903\n",
       "52   2022        mai           NaN  34393431285\n",
       "53   2022       juin           NaN  36360766011\n",
       "54   2022    juillet           NaN  40254144158\n",
       "55   2022       août           NaN  46817361628\n",
       "56   2022  septembre           NaN  45234266283\n",
       "57   2022    octobre           NaN  42991169158\n",
       "58   2022   novembre           NaN  41916221297\n",
       "59   2022   décembre           NaN  47684200972"
      ]
     },
     "execution_count": 21,
     "metadata": {},
     "output_type": "execute_result"
    }
   ],
   "source": [
    "df_copy.tail(13)"
   ]
  },
  {
   "cell_type": "markdown",
   "id": "191ea1cf",
   "metadata": {},
   "source": [
    "#### visualling missing data"
   ]
  },
  {
   "cell_type": "code",
   "execution_count": 22,
   "id": "12508f85",
   "metadata": {},
   "outputs": [],
   "source": [
    "try:\n",
    "    import missingno as msno # to visualize missing value\n",
    "except:\n",
    "    %pip install missingno\n",
    "    %pip install datatile"
   ]
  },
  {
   "cell_type": "code",
   "execution_count": 23,
   "id": "34c8dfcb",
   "metadata": {},
   "outputs": [
    {
     "data": {
      "text/plain": [
       "<Axes: >"
      ]
     },
     "execution_count": 23,
     "metadata": {},
     "output_type": "execute_result"
    },
    {
     "data": {
      "image/png": "[encoded data removed]",
      "text/plain": [
       "<Figure size 2500x1000 with 2 Axes>"
      ]
     },
     "metadata": {},
     "output_type": "display_data"
    }
   ],
   "source": [
    "# visualize missing data\n",
    "msno.matrix(df_copy)"
   ]
  },
  {
   "cell_type": "code",
   "execution_count": 24,
   "id": "202cf17b",
   "metadata": {},
   "outputs": [],
   "source": [
    "#msno.heatmap(df_copy)"
   ]
  },
  {
   "cell_type": "markdown",
   "id": "0f0738f6",
   "metadata": {},
   "source": [
    "##### Missing data summary"
   ]
  },
  {
   "cell_type": "code",
   "execution_count": 25,
   "id": "786bc579",
   "metadata": {},
   "outputs": [
    {
     "data": {
      "text/html": [
       "<div>\n",
       "<style scoped>\n",
       "    .dataframe tbody tr th:only-of-type {\n",
       "        vertical-align: middle;\n",
       "    }\n",
       "\n",
       "    .dataframe tbody tr th {\n",
       "        vertical-align: top;\n",
       "    }\n",
       "\n",
       "    .dataframe thead th {\n",
       "        text-align: right;\n",
       "    }\n",
       "</style>\n",
       "<table border=\"1\" class=\"dataframe\">\n",
       "  <thead>\n",
       "    <tr style=\"text-align: right;\">\n",
       "      <th></th>\n",
       "      <th>rec_douane</th>\n",
       "      <th>rec_connexe</th>\n",
       "    </tr>\n",
       "  </thead>\n",
       "  <tbody>\n",
       "    <tr>\n",
       "      <th>counts</th>\n",
       "      <td>48</td>\n",
       "      <td>60</td>\n",
       "    </tr>\n",
       "    <tr>\n",
       "      <th>uniques</th>\n",
       "      <td>47</td>\n",
       "      <td>59</td>\n",
       "    </tr>\n",
       "    <tr>\n",
       "      <th>missing</th>\n",
       "      <td>12</td>\n",
       "      <td>0</td>\n",
       "    </tr>\n",
       "    <tr>\n",
       "      <th>missing_perc</th>\n",
       "      <td>20%</td>\n",
       "      <td>0%</td>\n",
       "    </tr>\n",
       "    <tr>\n",
       "      <th>types</th>\n",
       "      <td>numeric</td>\n",
       "      <td>numeric</td>\n",
       "    </tr>\n",
       "  </tbody>\n",
       "</table>\n",
       "</div>"
      ],
      "text/plain": [
       "             rec_douane rec_connexe\n",
       "counts               48          60\n",
       "uniques              47          59\n",
       "missing              12           0\n",
       "missing_perc        20%          0%\n",
       "types           numeric     numeric"
      ]
     },
     "execution_count": 25,
     "metadata": {},
     "output_type": "execute_result"
    }
   ],
   "source": [
    "# Exhaustive Summary of dataframe \n",
    "from datatile.summary.df import DataFrameSummary\n",
    "dfs = DataFrameSummary(df_copy.iloc[:,2:])\n",
    "dfs.columns_stats"
   ]
  },
  {
   "cell_type": "markdown",
   "id": "78be03e2",
   "metadata": {},
   "source": [
    "#### Imputation with KNNImputer"
   ]
  },
  {
   "cell_type": "code",
   "execution_count": 26,
   "id": "dbf30c3d",
   "metadata": {},
   "outputs": [],
   "source": [
    "# import the KNNimputer class\n",
    "from sklearn.impute import KNNImputer"
   ]
  },
  {
   "cell_type": "code",
   "execution_count": 27,
   "id": "c79b73df",
   "metadata": {},
   "outputs": [],
   "source": [
    "# create an object for KNNImputer\n",
    "imputer = KNNImputer(n_neighbors=6)\n",
    "\n",
    "# Sélection de la colonne \"rec_douane\"\n",
    "rec_douane = df_copy.rec_douane\n",
    "\n",
    "# Réorganiser les données pour correspondre à la forme requise\n",
    "rec_douane = rec_douane.values.reshape(-1, 1)\n",
    "\n",
    "# Appliquer l'imputation\n",
    "imputed_rec_douane = imputer.fit_transform(rec_douane)\n",
    "\n",
    "# Mise à jour de la colonne \"rec_douane\"\n",
    "df_copy[\"rec_douane\"] = imputed_rec_douane"
   ]
  },
  {
   "cell_type": "code",
   "execution_count": 28,
   "id": "e09a7677",
   "metadata": {},
   "outputs": [
    {
     "data": {
      "text/html": [
       "<div>\n",
       "<style scoped>\n",
       "    .dataframe tbody tr th:only-of-type {\n",
       "        vertical-align: middle;\n",
       "    }\n",
       "\n",
       "    .dataframe tbody tr th {\n",
       "        vertical-align: top;\n",
       "    }\n",
       "\n",
       "    .dataframe thead th {\n",
       "        text-align: right;\n",
       "    }\n",
       "</style>\n",
       "<table border=\"1\" class=\"dataframe\">\n",
       "  <thead>\n",
       "    <tr style=\"text-align: right;\">\n",
       "      <th></th>\n",
       "      <th>rec_douane</th>\n",
       "      <th>rec_connexe</th>\n",
       "    </tr>\n",
       "  </thead>\n",
       "  <tbody>\n",
       "    <tr>\n",
       "      <th>counts</th>\n",
       "      <td>60</td>\n",
       "      <td>60</td>\n",
       "    </tr>\n",
       "    <tr>\n",
       "      <th>uniques</th>\n",
       "      <td>48</td>\n",
       "      <td>59</td>\n",
       "    </tr>\n",
       "    <tr>\n",
       "      <th>missing</th>\n",
       "      <td>0</td>\n",
       "      <td>0</td>\n",
       "    </tr>\n",
       "    <tr>\n",
       "      <th>missing_perc</th>\n",
       "      <td>0%</td>\n",
       "      <td>0%</td>\n",
       "    </tr>\n",
       "    <tr>\n",
       "      <th>types</th>\n",
       "      <td>numeric</td>\n",
       "      <td>numeric</td>\n",
       "    </tr>\n",
       "  </tbody>\n",
       "</table>\n",
       "</div>"
      ],
      "text/plain": [
       "             rec_douane rec_connexe\n",
       "counts               60          60\n",
       "uniques              48          59\n",
       "missing               0           0\n",
       "missing_perc         0%          0%\n",
       "types           numeric     numeric"
      ]
     },
     "execution_count": 28,
     "metadata": {},
     "output_type": "execute_result"
    }
   ],
   "source": [
    "# Exhaustive Summary of dataframe \n",
    "from datatile.summary.df import DataFrameSummary\n",
    "dfs = DataFrameSummary(df_copy.iloc[:,2:])\n",
    "dfs.columns_stats"
   ]
  },
  {
   "cell_type": "code",
   "execution_count": 29,
   "id": "ff064dd1",
   "metadata": {},
   "outputs": [
    {
     "data": {
      "text/html": [
       "<div>\n",
       "<style scoped>\n",
       "    .dataframe tbody tr th:only-of-type {\n",
       "        vertical-align: middle;\n",
       "    }\n",
       "\n",
       "    .dataframe tbody tr th {\n",
       "        vertical-align: top;\n",
       "    }\n",
       "\n",
       "    .dataframe thead th {\n",
       "        text-align: right;\n",
       "    }\n",
       "</style>\n",
       "<table border=\"1\" class=\"dataframe\">\n",
       "  <thead>\n",
       "    <tr style=\"text-align: right;\">\n",
       "      <th></th>\n",
       "      <th>annee</th>\n",
       "      <th>mois</th>\n",
       "      <th>rec_douane</th>\n",
       "      <th>rec_connexe</th>\n",
       "    </tr>\n",
       "  </thead>\n",
       "  <tbody>\n",
       "    <tr>\n",
       "      <th>48</th>\n",
       "      <td>2022</td>\n",
       "      <td>janvier</td>\n",
       "      <td>8.048956e+10</td>\n",
       "      <td>20720485819</td>\n",
       "    </tr>\n",
       "    <tr>\n",
       "      <th>49</th>\n",
       "      <td>2022</td>\n",
       "      <td>février</td>\n",
       "      <td>8.048956e+10</td>\n",
       "      <td>21390075497</td>\n",
       "    </tr>\n",
       "    <tr>\n",
       "      <th>50</th>\n",
       "      <td>2022</td>\n",
       "      <td>mars</td>\n",
       "      <td>8.048956e+10</td>\n",
       "      <td>27574121734</td>\n",
       "    </tr>\n",
       "    <tr>\n",
       "      <th>51</th>\n",
       "      <td>2022</td>\n",
       "      <td>avril</td>\n",
       "      <td>8.048956e+10</td>\n",
       "      <td>26861850903</td>\n",
       "    </tr>\n",
       "    <tr>\n",
       "      <th>52</th>\n",
       "      <td>2022</td>\n",
       "      <td>mai</td>\n",
       "      <td>8.048956e+10</td>\n",
       "      <td>34393431285</td>\n",
       "    </tr>\n",
       "    <tr>\n",
       "      <th>53</th>\n",
       "      <td>2022</td>\n",
       "      <td>juin</td>\n",
       "      <td>8.048956e+10</td>\n",
       "      <td>36360766011</td>\n",
       "    </tr>\n",
       "    <tr>\n",
       "      <th>54</th>\n",
       "      <td>2022</td>\n",
       "      <td>juillet</td>\n",
       "      <td>8.048956e+10</td>\n",
       "      <td>40254144158</td>\n",
       "    </tr>\n",
       "    <tr>\n",
       "      <th>55</th>\n",
       "      <td>2022</td>\n",
       "      <td>août</td>\n",
       "      <td>8.048956e+10</td>\n",
       "      <td>46817361628</td>\n",
       "    </tr>\n",
       "    <tr>\n",
       "      <th>56</th>\n",
       "      <td>2022</td>\n",
       "      <td>septembre</td>\n",
       "      <td>8.048956e+10</td>\n",
       "      <td>45234266283</td>\n",
       "    </tr>\n",
       "    <tr>\n",
       "      <th>57</th>\n",
       "      <td>2022</td>\n",
       "      <td>octobre</td>\n",
       "      <td>8.048956e+10</td>\n",
       "      <td>42991169158</td>\n",
       "    </tr>\n",
       "    <tr>\n",
       "      <th>58</th>\n",
       "      <td>2022</td>\n",
       "      <td>novembre</td>\n",
       "      <td>8.048956e+10</td>\n",
       "      <td>41916221297</td>\n",
       "    </tr>\n",
       "    <tr>\n",
       "      <th>59</th>\n",
       "      <td>2022</td>\n",
       "      <td>décembre</td>\n",
       "      <td>8.048956e+10</td>\n",
       "      <td>47684200972</td>\n",
       "    </tr>\n",
       "  </tbody>\n",
       "</table>\n",
       "</div>"
      ],
      "text/plain": [
       "    annee       mois    rec_douane  rec_connexe\n",
       "48   2022    janvier  8.048956e+10  20720485819\n",
       "49   2022    février  8.048956e+10  21390075497\n",
       "50   2022       mars  8.048956e+10  27574121734\n",
       "51   2022      avril  8.048956e+10  26861850903\n",
       "52   2022        mai  8.048956e+10  34393431285\n",
       "53   2022       juin  8.048956e+10  36360766011\n",
       "54   2022    juillet  8.048956e+10  40254144158\n",
       "55   2022       août  8.048956e+10  46817361628\n",
       "56   2022  septembre  8.048956e+10  45234266283\n",
       "57   2022    octobre  8.048956e+10  42991169158\n",
       "58   2022   novembre  8.048956e+10  41916221297\n",
       "59   2022   décembre  8.048956e+10  47684200972"
      ]
     },
     "execution_count": 29,
     "metadata": {},
     "output_type": "execute_result"
    }
   ],
   "source": [
    "df_copy.tail(12)"
   ]
  },
  {
   "cell_type": "markdown",
   "id": "850e82d1",
   "metadata": {},
   "source": [
    "#### Imputation with Means of previous months"
   ]
  },
  {
   "cell_type": "markdown",
   "id": "d9ba30d5",
   "metadata": {},
   "source": [
    "KNNImputer doesn't work well, we choose an others custom technic"
   ]
  },
  {
   "cell_type": "markdown",
   "id": "91e8f156",
   "metadata": {},
   "source": [
    "In this case, we will impute using the means of the previous months, except for the last month where we have missing data."
   ]
  },
  {
   "cell_type": "code",
   "execution_count": 30,
   "id": "345dc71d",
   "metadata": {},
   "outputs": [],
   "source": [
    "# Iterate over each month in the last year\n",
    "last_year = df_copy[df_copy[\"annee\"] == df_copy[\"annee\"].max()]\n",
    "\n",
    "previous_year = df_copy[df_copy[\"annee\"] < df_copy[\"annee\"].max()]"
   ]
  },
  {
   "cell_type": "code",
   "execution_count": 31,
   "id": "6acf5c92",
   "metadata": {},
   "outputs": [
    {
     "data": {
      "text/html": [
       "<div>\n",
       "<style scoped>\n",
       "    .dataframe tbody tr th:only-of-type {\n",
       "        vertical-align: middle;\n",
       "    }\n",
       "\n",
       "    .dataframe tbody tr th {\n",
       "        vertical-align: top;\n",
       "    }\n",
       "\n",
       "    .dataframe thead th {\n",
       "        text-align: right;\n",
       "    }\n",
       "</style>\n",
       "<table border=\"1\" class=\"dataframe\">\n",
       "  <thead>\n",
       "    <tr style=\"text-align: right;\">\n",
       "      <th></th>\n",
       "      <th>annee</th>\n",
       "      <th>mois</th>\n",
       "      <th>rec_douane</th>\n",
       "      <th>rec_connexe</th>\n",
       "    </tr>\n",
       "  </thead>\n",
       "  <tbody>\n",
       "    <tr>\n",
       "      <th>48</th>\n",
       "      <td>2022</td>\n",
       "      <td>janvier</td>\n",
       "      <td>8.048956e+10</td>\n",
       "      <td>20720485819</td>\n",
       "    </tr>\n",
       "    <tr>\n",
       "      <th>49</th>\n",
       "      <td>2022</td>\n",
       "      <td>février</td>\n",
       "      <td>8.048956e+10</td>\n",
       "      <td>21390075497</td>\n",
       "    </tr>\n",
       "    <tr>\n",
       "      <th>50</th>\n",
       "      <td>2022</td>\n",
       "      <td>mars</td>\n",
       "      <td>8.048956e+10</td>\n",
       "      <td>27574121734</td>\n",
       "    </tr>\n",
       "    <tr>\n",
       "      <th>51</th>\n",
       "      <td>2022</td>\n",
       "      <td>avril</td>\n",
       "      <td>8.048956e+10</td>\n",
       "      <td>26861850903</td>\n",
       "    </tr>\n",
       "    <tr>\n",
       "      <th>52</th>\n",
       "      <td>2022</td>\n",
       "      <td>mai</td>\n",
       "      <td>8.048956e+10</td>\n",
       "      <td>34393431285</td>\n",
       "    </tr>\n",
       "  </tbody>\n",
       "</table>\n",
       "</div>"
      ],
      "text/plain": [
       "    annee     mois    rec_douane  rec_connexe\n",
       "48   2022  janvier  8.048956e+10  20720485819\n",
       "49   2022  février  8.048956e+10  21390075497\n",
       "50   2022     mars  8.048956e+10  27574121734\n",
       "51   2022    avril  8.048956e+10  26861850903\n",
       "52   2022      mai  8.048956e+10  34393431285"
      ]
     },
     "execution_count": 31,
     "metadata": {},
     "output_type": "execute_result"
    }
   ],
   "source": [
    "last_year.head()"
   ]
  },
  {
   "cell_type": "code",
   "execution_count": 32,
   "id": "077d9339",
   "metadata": {},
   "outputs": [
    {
     "data": {
      "text/html": [
       "<div>\n",
       "<style scoped>\n",
       "    .dataframe tbody tr th:only-of-type {\n",
       "        vertical-align: middle;\n",
       "    }\n",
       "\n",
       "    .dataframe tbody tr th {\n",
       "        vertical-align: top;\n",
       "    }\n",
       "\n",
       "    .dataframe thead th {\n",
       "        text-align: right;\n",
       "    }\n",
       "</style>\n",
       "<table border=\"1\" class=\"dataframe\">\n",
       "  <thead>\n",
       "    <tr style=\"text-align: right;\">\n",
       "      <th></th>\n",
       "      <th>annee</th>\n",
       "      <th>mois</th>\n",
       "      <th>rec_douane</th>\n",
       "      <th>rec_connexe</th>\n",
       "    </tr>\n",
       "  </thead>\n",
       "  <tbody>\n",
       "    <tr>\n",
       "      <th>0</th>\n",
       "      <td>2018</td>\n",
       "      <td>janvier</td>\n",
       "      <td>4.695114e+10</td>\n",
       "      <td>19549999674</td>\n",
       "    </tr>\n",
       "    <tr>\n",
       "      <th>1</th>\n",
       "      <td>2018</td>\n",
       "      <td>février</td>\n",
       "      <td>4.731393e+10</td>\n",
       "      <td>5248767786</td>\n",
       "    </tr>\n",
       "    <tr>\n",
       "      <th>2</th>\n",
       "      <td>2018</td>\n",
       "      <td>mars</td>\n",
       "      <td>5.039886e+10</td>\n",
       "      <td>6547525686</td>\n",
       "    </tr>\n",
       "    <tr>\n",
       "      <th>3</th>\n",
       "      <td>2018</td>\n",
       "      <td>avril</td>\n",
       "      <td>5.877591e+10</td>\n",
       "      <td>7220072918</td>\n",
       "    </tr>\n",
       "    <tr>\n",
       "      <th>4</th>\n",
       "      <td>2018</td>\n",
       "      <td>mai</td>\n",
       "      <td>5.877591e+10</td>\n",
       "      <td>6938560710</td>\n",
       "    </tr>\n",
       "    <tr>\n",
       "      <th>5</th>\n",
       "      <td>2018</td>\n",
       "      <td>juin</td>\n",
       "      <td>6.865673e+10</td>\n",
       "      <td>10087033209</td>\n",
       "    </tr>\n",
       "    <tr>\n",
       "      <th>6</th>\n",
       "      <td>2018</td>\n",
       "      <td>juillet</td>\n",
       "      <td>6.719988e+10</td>\n",
       "      <td>13747618364</td>\n",
       "    </tr>\n",
       "    <tr>\n",
       "      <th>7</th>\n",
       "      <td>2018</td>\n",
       "      <td>août</td>\n",
       "      <td>9.174427e+10</td>\n",
       "      <td>18154441800</td>\n",
       "    </tr>\n",
       "    <tr>\n",
       "      <th>8</th>\n",
       "      <td>2018</td>\n",
       "      <td>septembre</td>\n",
       "      <td>8.166058e+10</td>\n",
       "      <td>22319200107</td>\n",
       "    </tr>\n",
       "    <tr>\n",
       "      <th>9</th>\n",
       "      <td>2018</td>\n",
       "      <td>octobre</td>\n",
       "      <td>8.695003e+10</td>\n",
       "      <td>18872341724</td>\n",
       "    </tr>\n",
       "    <tr>\n",
       "      <th>10</th>\n",
       "      <td>2018</td>\n",
       "      <td>novembre</td>\n",
       "      <td>7.793332e+10</td>\n",
       "      <td>17499907474</td>\n",
       "    </tr>\n",
       "    <tr>\n",
       "      <th>11</th>\n",
       "      <td>2018</td>\n",
       "      <td>décembre</td>\n",
       "      <td>7.705552e+10</td>\n",
       "      <td>20518021342</td>\n",
       "    </tr>\n",
       "    <tr>\n",
       "      <th>12</th>\n",
       "      <td>2019</td>\n",
       "      <td>janvier</td>\n",
       "      <td>7.992190e+10</td>\n",
       "      <td>20456591937</td>\n",
       "    </tr>\n",
       "  </tbody>\n",
       "</table>\n",
       "</div>"
      ],
      "text/plain": [
       "    annee       mois    rec_douane  rec_connexe\n",
       "0    2018    janvier  4.695114e+10  19549999674\n",
       "1    2018    février  4.731393e+10   5248767786\n",
       "2    2018       mars  5.039886e+10   6547525686\n",
       "3    2018      avril  5.877591e+10   7220072918\n",
       "4    2018        mai  5.877591e+10   6938560710\n",
       "5    2018       juin  6.865673e+10  10087033209\n",
       "6    2018    juillet  6.719988e+10  13747618364\n",
       "7    2018       août  9.174427e+10  18154441800\n",
       "8    2018  septembre  8.166058e+10  22319200107\n",
       "9    2018    octobre  8.695003e+10  18872341724\n",
       "10   2018   novembre  7.793332e+10  17499907474\n",
       "11   2018   décembre  7.705552e+10  20518021342\n",
       "12   2019    janvier  7.992190e+10  20456591937"
      ]
     },
     "execution_count": 32,
     "metadata": {},
     "output_type": "execute_result"
    }
   ],
   "source": [
    "previous_year.head(13)"
   ]
  },
  {
   "cell_type": "code",
   "execution_count": 33,
   "id": "89f99247",
   "metadata": {},
   "outputs": [],
   "source": [
    "month = previous_year.groupby('mois').rec_douane.mean()"
   ]
  },
  {
   "cell_type": "code",
   "execution_count": 34,
   "id": "6de4555d",
   "metadata": {},
   "outputs": [
    {
     "data": {
      "text/plain": [
       "mois\n",
       "août         1.183959e+11\n",
       "avril        6.976310e+10\n",
       "décembre     8.320061e+10\n",
       "février      6.663724e+10\n",
       "janvier      6.337386e+10\n",
       "juillet      7.981600e+10\n",
       "juin         7.592641e+10\n",
       "mai          7.307093e+10\n",
       "mars         6.966252e+10\n",
       "novembre     8.500371e+10\n",
       "octobre      8.874878e+10\n",
       "septembre    9.227563e+10\n",
       "Name: rec_douane, dtype: float64"
      ]
     },
     "execution_count": 34,
     "metadata": {},
     "output_type": "execute_result"
    }
   ],
   "source": [
    "month"
   ]
  },
  {
   "cell_type": "code",
   "execution_count": 35,
   "id": "4e8bdb08",
   "metadata": {},
   "outputs": [],
   "source": [
    "# Replace the values in the last year with the monthly means\n",
    "for month_name, mean_value in month.items():\n",
    "    last_year.loc[last_year[\"mois\"] == month_name, \"rec_douane\"] = mean_value\n",
    "\n",
    "# Update the original DataFrame with the imputed values\n",
    "df_copy.update(last_year)"
   ]
  },
  {
   "cell_type": "code",
   "execution_count": 36,
   "id": "7122ee68",
   "metadata": {},
   "outputs": [
    {
     "data": {
      "text/html": [
       "<div>\n",
       "<style scoped>\n",
       "    .dataframe tbody tr th:only-of-type {\n",
       "        vertical-align: middle;\n",
       "    }\n",
       "\n",
       "    .dataframe tbody tr th {\n",
       "        vertical-align: top;\n",
       "    }\n",
       "\n",
       "    .dataframe thead th {\n",
       "        text-align: right;\n",
       "    }\n",
       "</style>\n",
       "<table border=\"1\" class=\"dataframe\">\n",
       "  <thead>\n",
       "    <tr style=\"text-align: right;\">\n",
       "      <th></th>\n",
       "      <th>annee</th>\n",
       "      <th>mois</th>\n",
       "      <th>rec_douane</th>\n",
       "      <th>rec_connexe</th>\n",
       "    </tr>\n",
       "  </thead>\n",
       "  <tbody>\n",
       "    <tr>\n",
       "      <th>48</th>\n",
       "      <td>2022</td>\n",
       "      <td>janvier</td>\n",
       "      <td>6.337386e+10</td>\n",
       "      <td>20720485819</td>\n",
       "    </tr>\n",
       "    <tr>\n",
       "      <th>49</th>\n",
       "      <td>2022</td>\n",
       "      <td>février</td>\n",
       "      <td>6.663724e+10</td>\n",
       "      <td>21390075497</td>\n",
       "    </tr>\n",
       "    <tr>\n",
       "      <th>50</th>\n",
       "      <td>2022</td>\n",
       "      <td>mars</td>\n",
       "      <td>6.966252e+10</td>\n",
       "      <td>27574121734</td>\n",
       "    </tr>\n",
       "    <tr>\n",
       "      <th>51</th>\n",
       "      <td>2022</td>\n",
       "      <td>avril</td>\n",
       "      <td>6.976310e+10</td>\n",
       "      <td>26861850903</td>\n",
       "    </tr>\n",
       "    <tr>\n",
       "      <th>52</th>\n",
       "      <td>2022</td>\n",
       "      <td>mai</td>\n",
       "      <td>7.307093e+10</td>\n",
       "      <td>34393431285</td>\n",
       "    </tr>\n",
       "    <tr>\n",
       "      <th>53</th>\n",
       "      <td>2022</td>\n",
       "      <td>juin</td>\n",
       "      <td>7.592641e+10</td>\n",
       "      <td>36360766011</td>\n",
       "    </tr>\n",
       "    <tr>\n",
       "      <th>54</th>\n",
       "      <td>2022</td>\n",
       "      <td>juillet</td>\n",
       "      <td>7.981600e+10</td>\n",
       "      <td>40254144158</td>\n",
       "    </tr>\n",
       "    <tr>\n",
       "      <th>55</th>\n",
       "      <td>2022</td>\n",
       "      <td>août</td>\n",
       "      <td>1.183959e+11</td>\n",
       "      <td>46817361628</td>\n",
       "    </tr>\n",
       "    <tr>\n",
       "      <th>56</th>\n",
       "      <td>2022</td>\n",
       "      <td>septembre</td>\n",
       "      <td>9.227563e+10</td>\n",
       "      <td>45234266283</td>\n",
       "    </tr>\n",
       "    <tr>\n",
       "      <th>57</th>\n",
       "      <td>2022</td>\n",
       "      <td>octobre</td>\n",
       "      <td>8.874878e+10</td>\n",
       "      <td>42991169158</td>\n",
       "    </tr>\n",
       "    <tr>\n",
       "      <th>58</th>\n",
       "      <td>2022</td>\n",
       "      <td>novembre</td>\n",
       "      <td>8.500371e+10</td>\n",
       "      <td>41916221297</td>\n",
       "    </tr>\n",
       "    <tr>\n",
       "      <th>59</th>\n",
       "      <td>2022</td>\n",
       "      <td>décembre</td>\n",
       "      <td>8.320061e+10</td>\n",
       "      <td>47684200972</td>\n",
       "    </tr>\n",
       "  </tbody>\n",
       "</table>\n",
       "</div>"
      ],
      "text/plain": [
       "    annee       mois    rec_douane  rec_connexe\n",
       "48   2022    janvier  6.337386e+10  20720485819\n",
       "49   2022    février  6.663724e+10  21390075497\n",
       "50   2022       mars  6.966252e+10  27574121734\n",
       "51   2022      avril  6.976310e+10  26861850903\n",
       "52   2022        mai  7.307093e+10  34393431285\n",
       "53   2022       juin  7.592641e+10  36360766011\n",
       "54   2022    juillet  7.981600e+10  40254144158\n",
       "55   2022       août  1.183959e+11  46817361628\n",
       "56   2022  septembre  9.227563e+10  45234266283\n",
       "57   2022    octobre  8.874878e+10  42991169158\n",
       "58   2022   novembre  8.500371e+10  41916221297\n",
       "59   2022   décembre  8.320061e+10  47684200972"
      ]
     },
     "execution_count": 36,
     "metadata": {},
     "output_type": "execute_result"
    }
   ],
   "source": [
    "df_copy.tail(12)"
   ]
  },
  {
   "cell_type": "markdown",
   "id": "de73b270",
   "metadata": {},
   "source": [
    "In this case, the type of rec_douane changes the type beacause we are using means, the have to change rec_douane to int value"
   ]
  },
  {
   "cell_type": "code",
   "execution_count": 37,
   "id": "046cc3f6",
   "metadata": {},
   "outputs": [],
   "source": [
    "df_copy.rec_douane = df_copy.rec_douane.apply(lambda x: int(x))"
   ]
  },
  {
   "cell_type": "code",
   "execution_count": 38,
   "id": "cc257735",
   "metadata": {},
   "outputs": [
    {
     "data": {
      "text/html": [
       "<div>\n",
       "<style scoped>\n",
       "    .dataframe tbody tr th:only-of-type {\n",
       "        vertical-align: middle;\n",
       "    }\n",
       "\n",
       "    .dataframe tbody tr th {\n",
       "        vertical-align: top;\n",
       "    }\n",
       "\n",
       "    .dataframe thead th {\n",
       "        text-align: right;\n",
       "    }\n",
       "</style>\n",
       "<table border=\"1\" class=\"dataframe\">\n",
       "  <thead>\n",
       "    <tr style=\"text-align: right;\">\n",
       "      <th></th>\n",
       "      <th>annee</th>\n",
       "      <th>mois</th>\n",
       "      <th>rec_douane</th>\n",
       "      <th>rec_connexe</th>\n",
       "    </tr>\n",
       "  </thead>\n",
       "  <tbody>\n",
       "    <tr>\n",
       "      <th>48</th>\n",
       "      <td>2022</td>\n",
       "      <td>janvier</td>\n",
       "      <td>63373856737</td>\n",
       "      <td>20720485819</td>\n",
       "    </tr>\n",
       "    <tr>\n",
       "      <th>49</th>\n",
       "      <td>2022</td>\n",
       "      <td>février</td>\n",
       "      <td>66637235825</td>\n",
       "      <td>21390075497</td>\n",
       "    </tr>\n",
       "    <tr>\n",
       "      <th>50</th>\n",
       "      <td>2022</td>\n",
       "      <td>mars</td>\n",
       "      <td>69662523273</td>\n",
       "      <td>27574121734</td>\n",
       "    </tr>\n",
       "    <tr>\n",
       "      <th>51</th>\n",
       "      <td>2022</td>\n",
       "      <td>avril</td>\n",
       "      <td>69763102305</td>\n",
       "      <td>26861850903</td>\n",
       "    </tr>\n",
       "    <tr>\n",
       "      <th>52</th>\n",
       "      <td>2022</td>\n",
       "      <td>mai</td>\n",
       "      <td>73070925062</td>\n",
       "      <td>34393431285</td>\n",
       "    </tr>\n",
       "    <tr>\n",
       "      <th>53</th>\n",
       "      <td>2022</td>\n",
       "      <td>juin</td>\n",
       "      <td>75926413107</td>\n",
       "      <td>36360766011</td>\n",
       "    </tr>\n",
       "    <tr>\n",
       "      <th>54</th>\n",
       "      <td>2022</td>\n",
       "      <td>juillet</td>\n",
       "      <td>79816003888</td>\n",
       "      <td>40254144158</td>\n",
       "    </tr>\n",
       "    <tr>\n",
       "      <th>55</th>\n",
       "      <td>2022</td>\n",
       "      <td>août</td>\n",
       "      <td>118395916678</td>\n",
       "      <td>46817361628</td>\n",
       "    </tr>\n",
       "    <tr>\n",
       "      <th>56</th>\n",
       "      <td>2022</td>\n",
       "      <td>septembre</td>\n",
       "      <td>92275629673</td>\n",
       "      <td>45234266283</td>\n",
       "    </tr>\n",
       "    <tr>\n",
       "      <th>57</th>\n",
       "      <td>2022</td>\n",
       "      <td>octobre</td>\n",
       "      <td>88748781686</td>\n",
       "      <td>42991169158</td>\n",
       "    </tr>\n",
       "    <tr>\n",
       "      <th>58</th>\n",
       "      <td>2022</td>\n",
       "      <td>novembre</td>\n",
       "      <td>85003713595</td>\n",
       "      <td>41916221297</td>\n",
       "    </tr>\n",
       "    <tr>\n",
       "      <th>59</th>\n",
       "      <td>2022</td>\n",
       "      <td>décembre</td>\n",
       "      <td>83200610127</td>\n",
       "      <td>47684200972</td>\n",
       "    </tr>\n",
       "  </tbody>\n",
       "</table>\n",
       "</div>"
      ],
      "text/plain": [
       "    annee       mois    rec_douane  rec_connexe\n",
       "48   2022    janvier   63373856737  20720485819\n",
       "49   2022    février   66637235825  21390075497\n",
       "50   2022       mars   69662523273  27574121734\n",
       "51   2022      avril   69763102305  26861850903\n",
       "52   2022        mai   73070925062  34393431285\n",
       "53   2022       juin   75926413107  36360766011\n",
       "54   2022    juillet   79816003888  40254144158\n",
       "55   2022       août  118395916678  46817361628\n",
       "56   2022  septembre   92275629673  45234266283\n",
       "57   2022    octobre   88748781686  42991169158\n",
       "58   2022   novembre   85003713595  41916221297\n",
       "59   2022   décembre   83200610127  47684200972"
      ]
     },
     "execution_count": 38,
     "metadata": {},
     "output_type": "execute_result"
    }
   ],
   "source": [
    "df_copy.tail(12)"
   ]
  },
  {
   "cell_type": "markdown",
   "id": "70409637",
   "metadata": {},
   "source": [
    "Now we are abble to analyse "
   ]
  },
  {
   "cell_type": "markdown",
   "id": "0e21ce19",
   "metadata": {},
   "source": [
    "### Descriptive analysis\n",
    "---"
   ]
  },
  {
   "cell_type": "markdown",
   "id": "9d01e15c",
   "metadata": {},
   "source": [
    "##### Descriptive stat"
   ]
  },
  {
   "cell_type": "code",
   "execution_count": 39,
   "id": "def066a9",
   "metadata": {},
   "outputs": [
    {
     "data": {
      "text/html": [
       "<div>\n",
       "<style scoped>\n",
       "    .dataframe tbody tr th:only-of-type {\n",
       "        vertical-align: middle;\n",
       "    }\n",
       "\n",
       "    .dataframe tbody tr th {\n",
       "        vertical-align: top;\n",
       "    }\n",
       "\n",
       "    .dataframe thead th {\n",
       "        text-align: right;\n",
       "    }\n",
       "</style>\n",
       "<table border=\"1\" class=\"dataframe\">\n",
       "  <thead>\n",
       "    <tr style=\"text-align: right;\">\n",
       "      <th></th>\n",
       "      <th>rec_douane</th>\n",
       "      <th>rec_connexe</th>\n",
       "    </tr>\n",
       "  </thead>\n",
       "  <tbody>\n",
       "    <tr>\n",
       "      <th>count</th>\n",
       "      <td>6.000000e+01</td>\n",
       "      <td>6.000000e+01</td>\n",
       "    </tr>\n",
       "    <tr>\n",
       "      <th>mean</th>\n",
       "      <td>8.048956e+10</td>\n",
       "      <td>2.221495e+10</td>\n",
       "    </tr>\n",
       "    <tr>\n",
       "      <th>std</th>\n",
       "      <td>2.601989e+10</td>\n",
       "      <td>9.481640e+09</td>\n",
       "    </tr>\n",
       "    <tr>\n",
       "      <th>min</th>\n",
       "      <td>4.695114e+10</td>\n",
       "      <td>5.248768e+09</td>\n",
       "    </tr>\n",
       "    <tr>\n",
       "      <th>25%</th>\n",
       "      <td>6.705922e+10</td>\n",
       "      <td>1.762471e+10</td>\n",
       "    </tr>\n",
       "    <tr>\n",
       "      <th>50%</th>\n",
       "      <td>7.628848e+10</td>\n",
       "      <td>1.987486e+10</td>\n",
       "    </tr>\n",
       "    <tr>\n",
       "      <th>75%</th>\n",
       "      <td>8.737461e+10</td>\n",
       "      <td>2.410510e+10</td>\n",
       "    </tr>\n",
       "    <tr>\n",
       "      <th>max</th>\n",
       "      <td>2.204992e+11</td>\n",
       "      <td>4.768420e+10</td>\n",
       "    </tr>\n",
       "  </tbody>\n",
       "</table>\n",
       "</div>"
      ],
      "text/plain": [
       "         rec_douane   rec_connexe\n",
       "count  6.000000e+01  6.000000e+01\n",
       "mean   8.048956e+10  2.221495e+10\n",
       "std    2.601989e+10  9.481640e+09\n",
       "min    4.695114e+10  5.248768e+09\n",
       "25%    6.705922e+10  1.762471e+10\n",
       "50%    7.628848e+10  1.987486e+10\n",
       "75%    8.737461e+10  2.410510e+10\n",
       "max    2.204992e+11  4.768420e+10"
      ]
     },
     "execution_count": 39,
     "metadata": {},
     "output_type": "execute_result"
    }
   ],
   "source": [
    "df_copy.iloc[:,2:].describe()"
   ]
  },
  {
   "cell_type": "code",
   "execution_count": 40,
   "id": "cb657869",
   "metadata": {},
   "outputs": [
    {
     "name": "stdout",
     "output_type": "stream",
     "text": [
      "Descriptive Statistics:\n",
      "         rec_douane   rec_connexe\n",
      "count  6.000000e+01  6.000000e+01\n",
      "mean   8.048956e+10  2.221495e+10\n",
      "std    2.601989e+10  9.481640e+09\n",
      "min    4.695114e+10  5.248768e+09\n",
      "25%    6.705922e+10  1.762471e+10\n",
      "50%    7.628848e+10  1.987486e+10\n",
      "75%    8.737461e+10  2.410510e+10\n",
      "max    2.204992e+11  4.768420e+10\n",
      "\n",
      "Coefficient of Variation (CV):\n",
      "rec_douane: 32.33%\n",
      "rec_connexe: 42.68%\n"
     ]
    }
   ],
   "source": [
    "# Calculate the coefficient of variation (CV) for the columns \"rec_douane\" and \"rec_connexe\"\n",
    "cv_rec_douane = (df_copy[\"rec_douane\"].std() / df_copy[\"rec_douane\"].mean()) * 100\n",
    "cv_rec_connexe = (df_copy[\"rec_connexe\"].std() / df_copy[\"rec_connexe\"].mean()) * 100\n",
    "\n",
    "# Print the descriptive statistics and CV values\n",
    "print(\"Descriptive Statistics:\")\n",
    "print(df_copy.iloc[:, 2:].describe())\n",
    "\n",
    "print(\"\\nCoefficient of Variation (CV):\")\n",
    "print(\"rec_douane: {:.2f}%\".format(cv_rec_douane))\n",
    "print(\"rec_connexe: {:.2f}%\".format(cv_rec_connexe))"
   ]
  },
  {
   "cell_type": "markdown",
   "id": "88ff2350",
   "metadata": {},
   "source": [
    "#### Correlation"
   ]
  },
  {
   "cell_type": "code",
   "execution_count": 41,
   "id": "35042dc0",
   "metadata": {},
   "outputs": [
    {
     "data": {
      "text/html": [
       "<div>\n",
       "<style scoped>\n",
       "    .dataframe tbody tr th:only-of-type {\n",
       "        vertical-align: middle;\n",
       "    }\n",
       "\n",
       "    .dataframe tbody tr th {\n",
       "        vertical-align: top;\n",
       "    }\n",
       "\n",
       "    .dataframe thead th {\n",
       "        text-align: right;\n",
       "    }\n",
       "</style>\n",
       "<table border=\"1\" class=\"dataframe\">\n",
       "  <thead>\n",
       "    <tr style=\"text-align: right;\">\n",
       "      <th></th>\n",
       "      <th>rec_douane</th>\n",
       "      <th>rec_connexe</th>\n",
       "    </tr>\n",
       "  </thead>\n",
       "  <tbody>\n",
       "    <tr>\n",
       "      <th>rec_douane</th>\n",
       "      <td>1.00000</td>\n",
       "      <td>0.29391</td>\n",
       "    </tr>\n",
       "    <tr>\n",
       "      <th>rec_connexe</th>\n",
       "      <td>0.29391</td>\n",
       "      <td>1.00000</td>\n",
       "    </tr>\n",
       "  </tbody>\n",
       "</table>\n",
       "</div>"
      ],
      "text/plain": [
       "             rec_douane  rec_connexe\n",
       "rec_douane      1.00000      0.29391\n",
       "rec_connexe     0.29391      1.00000"
      ]
     },
     "execution_count": 41,
     "metadata": {},
     "output_type": "execute_result"
    }
   ],
   "source": [
    "df_copy.iloc[:, 2:].corr()"
   ]
  },
  {
   "cell_type": "markdown",
   "id": "f362c9b6",
   "metadata": {},
   "source": [
    "#### Working scalling data (on usd currency : 1 usd = 2500 FC)"
   ]
  },
  {
   "cell_type": "code",
   "execution_count": 42,
   "id": "cc638532",
   "metadata": {},
   "outputs": [],
   "source": [
    "df_copy.rec_douane = df_copy.rec_douane.apply(lambda x: int(x/2500))\n",
    "df_copy.rec_connexe = df_copy.rec_connexe.apply(lambda x: int(x/2500))"
   ]
  },
  {
   "cell_type": "code",
   "execution_count": 43,
   "id": "c279d508",
   "metadata": {},
   "outputs": [
    {
     "name": "stdout",
     "output_type": "stream",
     "text": [
      "Descriptive Statistics:\n",
      "         rec_douane   rec_connexe\n",
      "count  6.000000e+01  6.000000e+01\n",
      "mean   3.219582e+07  8.885980e+06\n",
      "std    1.040796e+07  3.792656e+06\n",
      "min    1.878046e+07  2.099507e+06\n",
      "25%    2.682369e+07  7.049884e+06\n",
      "50%    3.051539e+07  7.949944e+06\n",
      "75%    3.494984e+07  9.642040e+06\n",
      "max    8.819966e+07  1.907368e+07\n",
      "\n",
      "Coefficient of Variation (CV):\n",
      "rec_douane: 32.33%\n",
      "rec_connexe: 42.68%\n"
     ]
    }
   ],
   "source": [
    "# Calculate the coefficient of variation (CV) for the columns \"rec_douane\" and \"rec_connexe\"\n",
    "cv_rec_douane = (df_copy[\"rec_douane\"].std() / df_copy[\"rec_douane\"].mean()) * 100\n",
    "cv_rec_connexe = (df_copy[\"rec_connexe\"].std() / df_copy[\"rec_connexe\"].mean()) * 100\n",
    "\n",
    "# Print the descriptive statistics and CV values\n",
    "print(\"Descriptive Statistics:\")\n",
    "print(df_copy.iloc[:, 2:].describe())\n",
    "\n",
    "print(\"\\nCoefficient of Variation (CV):\")\n",
    "print(\"rec_douane: {:.2f}%\".format(cv_rec_douane))\n",
    "print(\"rec_connexe: {:.2f}%\".format(cv_rec_connexe))"
   ]
  },
  {
   "cell_type": "markdown",
   "id": "16ef0967",
   "metadata": {},
   "source": [
    "#### Visualisation"
   ]
  },
  {
   "cell_type": "code",
   "execution_count": 44,
   "id": "6fa70d7d",
   "metadata": {},
   "outputs": [
    {
     "data": {
      "image/png": "[encoded data removed]",
      "text/plain": [
       "<Figure size 640x480 with 1 Axes>"
      ]
     },
     "metadata": {},
     "output_type": "display_data"
    }
   ],
   "source": [
    "# Create a bar plot of the CV values\n",
    "columns = [\"rec_douane\", \"rec_connexe\"]\n",
    "cv_values = [cv_rec_douane, cv_rec_connexe]\n",
    "\n",
    "plt.bar(columns, cv_values)\n",
    "plt.xlabel(\"Columns\")\n",
    "plt.ylabel(\"Coefficient of Variation (CV)\")\n",
    "plt.title(\"CV of rec_douane and rec_connexe\")\n",
    "\n",
    "plt.show()"
   ]
  },
  {
   "cell_type": "code",
   "execution_count": 45,
   "id": "14aebdef",
   "metadata": {},
   "outputs": [
    {
     "data": {
      "text/plain": [
       "Text(0.5, 1.0, \"Courbe d'évolution des rec_connexes\")"
      ]
     },
     "execution_count": 45,
     "metadata": {},
     "output_type": "execute_result"
    },
    {
     "data": {
      "image/png": "[encoded data removed]",
      "text/plain": [
       "<Figure size 1000x500 with 2 Axes>"
      ]
     },
     "metadata": {},
     "output_type": "display_data"
    }
   ],
   "source": [
    "# Get the values for rec_douane and rec_connexe\n",
    "rec_douane_values = df_copy[\"rec_douane\"].values\n",
    "rec_connexe_values = df_copy[\"rec_connexe\"].values\n",
    "\n",
    "# Create separate bar plots for rec_douane and rec_connexe\n",
    "plt.figure(figsize=(10, 5))\n",
    "\n",
    "plt.subplot(1, 2, 1)\n",
    "plt.plot(range(len(rec_douane_values)), rec_douane_values)\n",
    "plt.xlabel(\"Mois\")\n",
    "plt.ylabel(\"rec_douane\")\n",
    "plt.title(\"Courbe d'évolution des rec_douanes\")\n",
    "\n",
    "plt.subplot(1, 2, 2)\n",
    "plt.plot(range(len(rec_connexe_values)), rec_connexe_values)\n",
    "plt.xlabel(\"Mois\")\n",
    "plt.ylabel(\"rec_connexe\")\n",
    "plt.title(\"Courbe d'évolution des rec_connexes\")"
   ]
  },
  {
   "cell_type": "code",
   "execution_count": 46,
   "id": "ff8d142c",
   "metadata": {},
   "outputs": [
    {
     "data": {
      "text/html": [
       "<div>\n",
       "<style scoped>\n",
       "    .dataframe tbody tr th:only-of-type {\n",
       "        vertical-align: middle;\n",
       "    }\n",
       "\n",
       "    .dataframe tbody tr th {\n",
       "        vertical-align: top;\n",
       "    }\n",
       "\n",
       "    .dataframe thead th {\n",
       "        text-align: right;\n",
       "    }\n",
       "</style>\n",
       "<table border=\"1\" class=\"dataframe\">\n",
       "  <thead>\n",
       "    <tr style=\"text-align: right;\">\n",
       "      <th></th>\n",
       "      <th>rec_douane</th>\n",
       "      <th>rec_connexe</th>\n",
       "    </tr>\n",
       "  </thead>\n",
       "  <tbody>\n",
       "    <tr>\n",
       "      <th>rec_douane</th>\n",
       "      <td>1.00000</td>\n",
       "      <td>0.29391</td>\n",
       "    </tr>\n",
       "    <tr>\n",
       "      <th>rec_connexe</th>\n",
       "      <td>0.29391</td>\n",
       "      <td>1.00000</td>\n",
       "    </tr>\n",
       "  </tbody>\n",
       "</table>\n",
       "</div>"
      ],
      "text/plain": [
       "             rec_douane  rec_connexe\n",
       "rec_douane      1.00000      0.29391\n",
       "rec_connexe     0.29391      1.00000"
      ]
     },
     "execution_count": 46,
     "metadata": {},
     "output_type": "execute_result"
    }
   ],
   "source": [
    "df_copy.iloc[:, 2:].corr()"
   ]
  },
  {
   "cell_type": "code",
   "execution_count": 47,
   "id": "8eeacde6",
   "metadata": {},
   "outputs": [
    {
     "data": {
      "text/plain": [
       "(60, 4)"
      ]
     },
     "execution_count": 47,
     "metadata": {},
     "output_type": "execute_result"
    }
   ],
   "source": [
    "df_copy.shape"
   ]
  },
  {
   "cell_type": "code",
   "execution_count": 48,
   "id": "ed6e24af",
   "metadata": {},
   "outputs": [
    {
     "data": {
      "text/plain": [
       "Text(0.5, 1.0, 'Outlier detection in rec_connexe')"
      ]
     },
     "execution_count": 48,
     "metadata": {},
     "output_type": "execute_result"
    },
    {
     "data": {
      "image/png": "[encoded data removed]",
      "text/plain": [
       "<Figure size 1000x500 with 2 Axes>"
      ]
     },
     "metadata": {},
     "output_type": "display_data"
    }
   ],
   "source": [
    "plt.figure(figsize=(10, 5))\n",
    "\n",
    "plt.subplot(1, 2, 1)\n",
    "plt.boxplot(df_copy.rec_douane)\n",
    "plt.ylabel(\"rec_douane\")\n",
    "plt.title('Outlier detection in Rec_douane')\n",
    "\n",
    "plt.subplot(1, 2, 2)\n",
    "plt.boxplot(df_copy.rec_connexe)\n",
    "plt.ylabel(\"rec_connexe\")\n",
    "plt.title('Outlier detection in rec_connexe')"
   ]
  },
  {
   "cell_type": "code",
   "execution_count": 49,
   "id": "c8779019",
   "metadata": {},
   "outputs": [
    {
     "data": {
      "text/plain": [
       "<seaborn.axisgrid.FacetGrid at 0x1d746db42d0>"
      ]
     },
     "execution_count": 49,
     "metadata": {},
     "output_type": "execute_result"
    },
    {
     "data": {
      "image/png": "[encoded data removed]",
      "text/plain": [
       "<Figure size 500x500 with 1 Axes>"
      ]
     },
     "metadata": {},
     "output_type": "display_data"
    }
   ],
   "source": [
    "# plt.subplot(1, 2, 1)\n",
    "# sns.boxplot(x=df_copy.rec_douane)\n",
    "\n",
    "# plt.subplot(1, 2, 2)\n",
    "# sns.boxplot(x=df_copy.rec_connexe)\n",
    "\n",
    "sns.displot(x = df_copy.rec_douane, bins = 15, kde = False)"
   ]
  },
  {
   "cell_type": "markdown",
   "id": "258ce334",
   "metadata": {},
   "source": [
    "### Outlier Imputation"
   ]
  },
  {
   "cell_type": "markdown",
   "id": "7d70be82",
   "metadata": {},
   "source": [
    "Lower Bound = Q1 - 1.5*EIQ\n",
    "\n",
    "Upper Bound = Q3 + 1.5*EIQ \n",
    "\n",
    "EIQ = Q3 - Q1"
   ]
  },
  {
   "cell_type": "code",
   "execution_count": 50,
   "id": "d65d554a",
   "metadata": {},
   "outputs": [],
   "source": [
    "# def remove_outlier(col):\n",
    "#     sorted(col)\n",
    "#     Q1,Q3 = col.quantile([.25, .75])\n",
    "#     EIQ = Q3 -Q1\n",
    "#     return Q1 - (1.5 * EIQ), Q3 + (1.5 * EIQ)"
   ]
  },
  {
   "cell_type": "code",
   "execution_count": 51,
   "id": "ccecc093",
   "metadata": {},
   "outputs": [],
   "source": [
    "# for val in df.columns[2:]:\n",
    "#     lower_bound, upper_bound = remove_outlier(df_copy[val])\n",
    "    \n",
    "#     df[val] = np.where(df_copy[val] > upper_bound, upper_bound, df_copy[val])\n",
    "#     df[val] = np.where(df_copy[val] < lower_bound, lower_bound, df_copy[val])"
   ]
  },
  {
   "cell_type": "code",
   "execution_count": 52,
   "id": "f07923f8",
   "metadata": {},
   "outputs": [
    {
     "data": {
      "text/plain": [
       "(60, 4)"
      ]
     },
     "execution_count": 52,
     "metadata": {},
     "output_type": "execute_result"
    }
   ],
   "source": [
    "df_copy.shape"
   ]
  },
  {
   "cell_type": "code",
   "execution_count": 53,
   "id": "c42eea52",
   "metadata": {},
   "outputs": [],
   "source": [
    "# #Check Outliers\n",
    "# recettes = df_copy.select_dtypes(include=['int64', 'float64']).iloc[:,1:]\n",
    "# plt.figure(figsize=(15,6))\n",
    "\n",
    "# sns.boxplot(data = recettes)\n",
    "# plt.show()"
   ]
  },
  {
   "cell_type": "code",
   "execution_count": 68,
   "id": "2aa1cef9",
   "metadata": {},
   "outputs": [
    {
     "data": {
      "text/plain": [
       "Text(0.5, 1.0, 'Correlation between rec_douane and rec_connexe')"
      ]
     },
     "execution_count": 68,
     "metadata": {},
     "output_type": "execute_result"
    },
    {
     "data": {
      "image/png": "[encoded data removed]",
      "text/plain": [
       "<Figure size 640x480 with 2 Axes>"
      ]
     },
     "metadata": {},
     "output_type": "display_data"
    }
   ],
   "source": [
    "sns.heatmap(df_copy.iloc[:,2:].corr(), annot=True, cmap='coolwarm')\n",
    "plt.title('Correlation between rec_douane and rec_connexe')"
   ]
  },
  {
   "cell_type": "markdown",
   "id": "fa8011d1",
   "metadata": {},
   "source": [
    "### Correlation test"
   ]
  },
  {
   "cell_type": "code",
   "execution_count": 55,
   "id": "6a92a58d",
   "metadata": {},
   "outputs": [],
   "source": [
    "import pingouin as pg"
   ]
  },
  {
   "cell_type": "code",
   "execution_count": 56,
   "id": "e19b31ae",
   "metadata": {},
   "outputs": [
    {
     "data": {
      "text/html": [
       "<div>\n",
       "<style scoped>\n",
       "    .dataframe tbody tr th:only-of-type {\n",
       "        vertical-align: middle;\n",
       "    }\n",
       "\n",
       "    .dataframe tbody tr th {\n",
       "        vertical-align: top;\n",
       "    }\n",
       "\n",
       "    .dataframe thead th {\n",
       "        text-align: right;\n",
       "    }\n",
       "</style>\n",
       "<table border=\"1\" class=\"dataframe\">\n",
       "  <thead>\n",
       "    <tr style=\"text-align: right;\">\n",
       "      <th></th>\n",
       "      <th>n</th>\n",
       "      <th>r</th>\n",
       "      <th>CI95%</th>\n",
       "      <th>p-val</th>\n",
       "      <th>BF10</th>\n",
       "      <th>power</th>\n",
       "    </tr>\n",
       "  </thead>\n",
       "  <tbody>\n",
       "    <tr>\n",
       "      <th>pearson</th>\n",
       "      <td>60</td>\n",
       "      <td>0.29391</td>\n",
       "      <td>[0.04, 0.51]</td>\n",
       "      <td>0.022648</td>\n",
       "      <td>2.035</td>\n",
       "      <td>0.634204</td>\n",
       "    </tr>\n",
       "  </tbody>\n",
       "</table>\n",
       "</div>"
      ],
      "text/plain": [
       "          n        r         CI95%     p-val   BF10     power\n",
       "pearson  60  0.29391  [0.04, 0.51]  0.022648  2.035  0.634204"
      ]
     },
     "execution_count": 56,
     "metadata": {},
     "output_type": "execute_result"
    }
   ],
   "source": [
    "pg.corr(x=df_copy.rec_douane, y=df_copy.rec_connexe)"
   ]
  },
  {
   "cell_type": "code",
   "execution_count": 62,
   "id": "440c4cac",
   "metadata": {},
   "outputs": [],
   "source": [
    "r = round(pg.corr(x=df_copy.rec_douane, y=df_copy.rec_connexe).r['pearson'], 2)"
   ]
  },
  {
   "cell_type": "code",
   "execution_count": 57,
   "id": "572e0d9d",
   "metadata": {},
   "outputs": [
    {
     "data": {
      "text/plain": [
       "<matplotlib.collections.PathCollection at 0x1d74764a250>"
      ]
     },
     "execution_count": 57,
     "metadata": {},
     "output_type": "execute_result"
    },
    {
     "data": {
      "image/png": "[encoded data removed]",
      "text/plain": [
       "<Figure size 640x480 with 1 Axes>"
      ]
     },
     "metadata": {},
     "output_type": "display_data"
    }
   ],
   "source": [
    "plt.scatter(df_copy.rec_douane, df_copy.rec_connexe)"
   ]
  },
  {
   "cell_type": "code",
   "execution_count": 69,
   "id": "ee189bfa",
   "metadata": {},
   "outputs": [
    {
     "data": {
      "image/png": "[encoded data removed]",
      "text/plain": [
       "<Figure size 600x600 with 3 Axes>"
      ]
     },
     "metadata": {},
     "output_type": "display_data"
    }
   ],
   "source": [
    "# from scipy.stats import pearsonr\n",
    "# sns.set(style='white', font_scale=1.2)\n",
    "\n",
    "# g = sns.JointGrid(data=df_copy, x='rec_douane', y='rec_connexe')\n",
    "# g = g.plot_joint(sns.regplot, color=\"xkcd:muted blue\")\n",
    "# g = g.plot_marginals(sns.displot, kde=False, bins=12, color=\"xkcd:bluey grey\")\n",
    "# g.ax_joint.text(3e7, 2.2e7, f'r = {r}, p < .05', fontstyle='italic')\n",
    "# plt.tight_layout()\n",
    "\n",
    "from scipy.stats import pearsonr\n",
    "import seaborn as sns\n",
    "import matplotlib.pyplot as plt\n",
    "\n",
    "sns.set(style='white', font_scale=1.2)\n",
    "\n",
    "g = sns.JointGrid(data=df_copy, x='rec_douane', y='rec_connexe')\n",
    "g = g.plot_joint(sns.regplot, color=\"xkcd:muted blue\")\n",
    "g = g.plot_marginals(sns.histplot, kde=False, bins=12, color=\"xkcd:bluey grey\")\n",
    "g.ax_joint.text(3e7, 2.2e7, f'r = {r}, p < .05', fontstyle='italic')\n",
    "plt.tight_layout()"
   ]
  },
  {
   "cell_type": "code",
   "execution_count": null,
   "id": "a8942170",
   "metadata": {},
   "outputs": [],
   "source": []
  }
 ],
 "metadata": {
  "kernelspec": {
   "display_name": "Python 3 (ipykernel)",
   "language": "python",
   "name": "python3"
  },
  "language_info": {
   "codemirror_mode": {
    "name": "ipython",
    "version": 3
   },
   "file_extension": ".py",
   "mimetype": "text/x-python",
   "name": "python",
   "nbconvert_exporter": "python",
   "pygments_lexer": "ipython3",
   "version": "3.11.5"
  }
 },
 "nbformat": 4,
 "nbformat_minor": 5
}
