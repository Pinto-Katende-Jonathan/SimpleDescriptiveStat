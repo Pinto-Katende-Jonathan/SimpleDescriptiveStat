{
 "cells": [
  {
   "cell_type": "code",
   "execution_count": 1,
   "id": "b8674d40-23ea-46cf-bc83-2be0e2b055e2",
   "metadata": {},
   "outputs": [
    {
     "name": "stdout",
     "output_type": "stream",
     "text": [
      "hello\n"
     ]
    }
   ],
   "source": [
    "print(\"hello\")"
   ]
  },
  {
   "cell_type": "markdown",
   "id": "55c9a9c3-2f51-41fd-a9c1-05b88cae31a9",
   "metadata": {},
   "source": [
    "# Analyse simple sur la stat-desc"
   ]
  },
  {
   "cell_type": "markdown",
   "id": "ba7a7026",
   "metadata": {},
   "source": [
    "### Importation des packages"
   ]
  },
  {
   "cell_type": "code",
   "execution_count": 2,
   "id": "3949db03",
   "metadata": {},
   "outputs": [
    {
     "name": "stderr",
     "output_type": "stream",
     "text": [
      "Matplotlib is building the font cache; this may take a moment.\n"
     ]
    }
   ],
   "source": [
    "import numpy as np\n",
    "import pandas as pd\n",
    "import matplotlib.pyplot as plt\n",
    "import plotly.express as px\n",
    "import seaborn as sns"
   ]
  },
  {
   "cell_type": "markdown",
   "id": "8e537a4b",
   "metadata": {},
   "source": [
    "### Data importation"
   ]
  },
  {
   "cell_type": "code",
   "execution_count": 6,
   "id": "c2784c69",
   "metadata": {},
   "outputs": [],
   "source": [
    "try:\n",
    "    df = pd.read_excel('data.xlsx')\n",
    "except:\n",
    "    print('erreur :')\n",
    "    %pip install openpyxl"
   ]
  },
  {
   "cell_type": "markdown",
   "id": "f3e520a6",
   "metadata": {},
   "source": [
    "### Basic manipulation"
   ]
  },
  {
   "cell_type": "code",
   "execution_count": 9,
   "id": "b718a28c",
   "metadata": {},
   "outputs": [
    {
     "data": {
      "text/html": [
       "<div>\n",
       "<style scoped>\n",
       "    .dataframe tbody tr th:only-of-type {\n",
       "        vertical-align: middle;\n",
       "    }\n",
       "\n",
       "    .dataframe tbody tr th {\n",
       "        vertical-align: top;\n",
       "    }\n",
       "\n",
       "    .dataframe thead th {\n",
       "        text-align: right;\n",
       "    }\n",
       "</style>\n",
       "<table border=\"1\" class=\"dataframe\">\n",
       "  <thead>\n",
       "    <tr style=\"text-align: right;\">\n",
       "      <th></th>\n",
       "      <th>annee</th>\n",
       "      <th>mois</th>\n",
       "      <th>rec_douane</th>\n",
       "      <th>rec_connexe</th>\n",
       "    </tr>\n",
       "  </thead>\n",
       "  <tbody>\n",
       "    <tr>\n",
       "      <th>0</th>\n",
       "      <td>2018</td>\n",
       "      <td>janvier</td>\n",
       "      <td>46951137555</td>\n",
       "      <td>19.549.999.674</td>\n",
       "    </tr>\n",
       "    <tr>\n",
       "      <th>1</th>\n",
       "      <td>2018</td>\n",
       "      <td>février</td>\n",
       "      <td>47313934748</td>\n",
       "      <td>5.248.767.786</td>\n",
       "    </tr>\n",
       "    <tr>\n",
       "      <th>2</th>\n",
       "      <td>2018</td>\n",
       "      <td>mars</td>\n",
       "      <td>50398861182</td>\n",
       "      <td>6.547.525.686</td>\n",
       "    </tr>\n",
       "    <tr>\n",
       "      <th>3</th>\n",
       "      <td>2018</td>\n",
       "      <td>avril</td>\n",
       "      <td>58775911887</td>\n",
       "      <td>7.220.072.918</td>\n",
       "    </tr>\n",
       "    <tr>\n",
       "      <th>4</th>\n",
       "      <td>2018</td>\n",
       "      <td>mai</td>\n",
       "      <td>58775911887</td>\n",
       "      <td>6.938.560.710</td>\n",
       "    </tr>\n",
       "  </tbody>\n",
       "</table>\n",
       "</div>"
      ],
      "text/plain": [
       "   annee     mois   rec_douane      rec_connexe\n",
       "0   2018  janvier  46951137555   19.549.999.674\n",
       "1   2018  février  47313934748    5.248.767.786\n",
       "2   2018     mars  50398861182    6.547.525.686\n",
       "3   2018    avril  58775911887    7.220.072.918\n",
       "4   2018      mai  58775911887    6.938.560.710"
      ]
     },
     "execution_count": 9,
     "metadata": {},
     "output_type": "execute_result"
    }
   ],
   "source": [
    "df.head()"
   ]
  },
  {
   "cell_type": "markdown",
   "id": "784bd174",
   "metadata": {},
   "source": [
    "### Missing data manipulation"
   ]
  },
  {
   "cell_type": "code",
   "execution_count": 11,
   "id": "54627958",
   "metadata": {},
   "outputs": [
    {
     "name": "stdout",
     "output_type": "stream",
     "text": [
      "<class 'pandas.core.frame.DataFrame'>\n",
      "RangeIndex: 60 entries, 0 to 59\n",
      "Data columns (total 4 columns):\n",
      " #   Column       Non-Null Count  Dtype \n",
      "---  ------       --------------  ----- \n",
      " 0   annee        60 non-null     int64 \n",
      " 1   mois         60 non-null     object\n",
      " 2   rec_douane   48 non-null     object\n",
      " 3   rec_connexe  60 non-null     object\n",
      "dtypes: int64(1), object(3)\n",
      "memory usage: 2.0+ KB\n"
     ]
    }
   ],
   "source": [
    "df.info()"
   ]
  },
  {
   "cell_type": "code",
   "execution_count": 13,
   "id": "23f5769c",
   "metadata": {},
   "outputs": [
    {
     "name": "stdout",
     "output_type": "stream",
     "text": [
      "annee           0\n",
      "mois            0\n",
      "rec_douane     12\n",
      "rec_connexe     0\n",
      "dtype: int64\n"
     ]
    }
   ],
   "source": [
    "print(df.isnull().sum())"
   ]
  },
  {
   "cell_type": "code",
   "execution_count": 15,
   "id": "4e84f0c0",
   "metadata": {},
   "outputs": [],
   "source": [
    "df_copy = df.copy()"
   ]
  },
  {
   "cell_type": "code",
   "execution_count": 16,
   "id": "09bbcbd1",
   "metadata": {},
   "outputs": [
    {
     "data": {
      "text/html": [
       "<div>\n",
       "<style scoped>\n",
       "    .dataframe tbody tr th:only-of-type {\n",
       "        vertical-align: middle;\n",
       "    }\n",
       "\n",
       "    .dataframe tbody tr th {\n",
       "        vertical-align: top;\n",
       "    }\n",
       "\n",
       "    .dataframe thead th {\n",
       "        text-align: right;\n",
       "    }\n",
       "</style>\n",
       "<table border=\"1\" class=\"dataframe\">\n",
       "  <thead>\n",
       "    <tr style=\"text-align: right;\">\n",
       "      <th></th>\n",
       "      <th>annee</th>\n",
       "      <th>mois</th>\n",
       "      <th>rec_douane</th>\n",
       "      <th>rec_connexe</th>\n",
       "    </tr>\n",
       "  </thead>\n",
       "  <tbody>\n",
       "    <tr>\n",
       "      <th>0</th>\n",
       "      <td>2018</td>\n",
       "      <td>janvier</td>\n",
       "      <td>46951137555</td>\n",
       "      <td>19.549.999.674</td>\n",
       "    </tr>\n",
       "    <tr>\n",
       "      <th>1</th>\n",
       "      <td>2018</td>\n",
       "      <td>février</td>\n",
       "      <td>47313934748</td>\n",
       "      <td>5.248.767.786</td>\n",
       "    </tr>\n",
       "    <tr>\n",
       "      <th>2</th>\n",
       "      <td>2018</td>\n",
       "      <td>mars</td>\n",
       "      <td>50398861182</td>\n",
       "      <td>6.547.525.686</td>\n",
       "    </tr>\n",
       "    <tr>\n",
       "      <th>3</th>\n",
       "      <td>2018</td>\n",
       "      <td>avril</td>\n",
       "      <td>58775911887</td>\n",
       "      <td>7.220.072.918</td>\n",
       "    </tr>\n",
       "    <tr>\n",
       "      <th>4</th>\n",
       "      <td>2018</td>\n",
       "      <td>mai</td>\n",
       "      <td>58775911887</td>\n",
       "      <td>6.938.560.710</td>\n",
       "    </tr>\n",
       "  </tbody>\n",
       "</table>\n",
       "</div>"
      ],
      "text/plain": [
       "   annee     mois   rec_douane      rec_connexe\n",
       "0   2018  janvier  46951137555   19.549.999.674\n",
       "1   2018  février  47313934748    5.248.767.786\n",
       "2   2018     mars  50398861182    6.547.525.686\n",
       "3   2018    avril  58775911887    7.220.072.918\n",
       "4   2018      mai  58775911887    6.938.560.710"
      ]
     },
     "execution_count": 16,
     "metadata": {},
     "output_type": "execute_result"
    }
   ],
   "source": [
    "df_copy.head()"
   ]
  },
  {
   "cell_type": "code",
   "execution_count": 23,
   "id": "bc4c3ea1",
   "metadata": {},
   "outputs": [
    {
     "data": {
      "text/plain": [
       "array([46951137555, 47313934748, 50398861182, 58775911887, 68656726875,\n",
       "       67199882580, 91744270326, 81660584134, 86950027364, 77933324364,\n",
       "       77055520300, 79921904201, 80077845319, 92707936942, 83347546877,\n",
       "       90188111899, 82674828124, 86585709871, 74503183149, 71673553416,\n",
       "       72467971836, 67422443268, 64175523691, '605 672 967 11',\n",
       "       '674 329 875 42', '598 034 911 26', '572 341 506 44',\n",
       "       '508 469 326 05', '547 063 519 15', '683 389 565 01',\n",
       "       '868 370 554 60', '886 483 694 70', '766 505 408 72',\n",
       "       '721 957 331 65', '636 420 776 89', '660 550 884 82',\n",
       "       '717 241 756 94', '757 398 038 44', '796 947 998 13',\n",
       "       '924 727 438 60', '976 677 455 15', '971 394 666 03', 220499157780,\n",
       "       '127 1200 116 74', 118926586673, 122463353583, 127929318831, nan],\n",
       "      dtype=object)"
      ]
     },
     "execution_count": 23,
     "metadata": {},
     "output_type": "execute_result"
    }
   ],
   "source": [
    "df_copy.rec_douane.unique()"
   ]
  },
  {
   "cell_type": "markdown",
   "id": "25742120",
   "metadata": {},
   "source": [
    "#### Suppression des vides dans une chaine"
   ]
  },
  {
   "cell_type": "code",
   "execution_count": 89,
   "id": "6a04375c",
   "metadata": {},
   "outputs": [],
   "source": [
    "def remove_empty_str(v):\n",
    "    l = v.split(' ')\n",
    "    \n",
    "    # On supprime les valeurs vide de la liste\n",
    "    for i in range(len(l)-1, -1, -1):\n",
    "        if l[i] == \"\":\n",
    "            del l[i]\n",
    "    \n",
    "    if len(l)==1:\n",
    "        return int(l[0])\n",
    "    else:\n",
    "        concatenation = ''.join(str(element) for element in l) # On fait la concaténation des entiers converti en str\n",
    "        return int(concatenation)"
   ]
  },
  {
   "cell_type": "markdown",
   "id": "356fdd07",
   "metadata": {},
   "source": [
    "#### Converti un objet en un int"
   ]
  },
  {
   "cell_type": "code",
   "execution_count": 109,
   "id": "f75c829a",
   "metadata": {},
   "outputs": [],
   "source": [
    "def converte_to_number(entry):\n",
    "    try:\n",
    "        if (type(entry) == int) | (type(entry) == float):\n",
    "            return int(entry)\n",
    "        elif type(entry) == str:\n",
    "            try:\n",
    "                return int(entry)\n",
    "            except:\n",
    "                if('.' in entry):\n",
    "                    return entry\n",
    "                return remove_empty_str(entry)\n",
    "    except:\n",
    "        return entry"
   ]
  },
  {
   "cell_type": "code",
   "execution_count": 110,
   "id": "c4e5ef00",
   "metadata": {},
   "outputs": [
    {
     "data": {
      "text/plain": [
       "71724175694"
      ]
     },
     "execution_count": 110,
     "metadata": {},
     "output_type": "execute_result"
    }
   ],
   "source": [
    "remove_empty_str('717 241 756 94')"
   ]
  },
  {
   "cell_type": "code",
   "execution_count": 111,
   "id": "31594ece",
   "metadata": {},
   "outputs": [
    {
     "data": {
      "text/plain": [
       "71724175694"
      ]
     },
     "execution_count": 111,
     "metadata": {},
     "output_type": "execute_result"
    }
   ],
   "source": [
    "converte_to_number('717 241 756 94')"
   ]
  },
  {
   "cell_type": "code",
   "execution_count": 112,
   "id": "894c6d84",
   "metadata": {},
   "outputs": [
    {
     "name": "stdout",
     "output_type": "stream",
     "text": [
      "717 241 756 94.1\n"
     ]
    }
   ],
   "source": [
    "print(converte_to_number('717 241 756 94.1'))"
   ]
  },
  {
   "cell_type": "code",
   "execution_count": null,
   "id": "0e14485f",
   "metadata": {},
   "outputs": [],
   "source": []
  }
 ],
 "metadata": {
  "kernelspec": {
   "display_name": "Python 3 (ipykernel)",
   "language": "python",
   "name": "python3"
  },
  "language_info": {
   "codemirror_mode": {
    "name": "ipython",
    "version": 3
   },
   "file_extension": ".py",
   "mimetype": "text/x-python",
   "name": "python",
   "nbconvert_exporter": "python",
   "pygments_lexer": "ipython3",
   "version": "3.11.5"
  }
 },
 "nbformat": 4,
 "nbformat_minor": 5
}
